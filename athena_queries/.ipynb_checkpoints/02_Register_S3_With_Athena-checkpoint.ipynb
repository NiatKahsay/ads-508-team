{
 "cells": [
  {
   "cell_type": "markdown",
   "metadata": {},
   "source": [
    "# Register Cardi Data With Athena\n",
    "This will create an Athena table in the Glue Catalog (Hive Metastore)."
   ]
  },
  {
   "cell_type": "code",
   "execution_count": 1,
   "metadata": {},
   "outputs": [
    {
     "name": "stdout",
     "output_type": "stream",
     "text": [
      "sagemaker.config INFO - Not applying SDK defaults from location: /etc/xdg/sagemaker/config.yaml\n",
      "sagemaker.config INFO - Not applying SDK defaults from location: /home/sagemaker-user/.config/sagemaker/config.yaml\n"
     ]
    }
   ],
   "source": [
    "import boto3\n",
    "import sagemaker\n",
    "import pandas as pd\n",
    "\n",
    "sess = sagemaker.Session()\n",
    "bucket = sess.default_bucket()\n",
    "role = sagemaker.get_execution_role()\n",
    "region = boto3.Session().region_name"
   ]
  },
  {
   "cell_type": "code",
   "execution_count": 2,
   "metadata": {},
   "outputs": [],
   "source": [
    "ingest_create_athena_table_cardio_passed = False"
   ]
  },
  {
   "cell_type": "markdown",
   "metadata": {},
   "source": [
    "# Import PyAthena"
   ]
  },
  {
   "cell_type": "code",
   "execution_count": 3,
   "metadata": {},
   "outputs": [],
   "source": [
    "from pyathena import connect"
   ]
  },
  {
   "cell_type": "markdown",
   "metadata": {},
   "source": [
    "# Create Athena Table from Local cardio_train-checkpoint.csv and Quitline_Services_Available_Medications.csv Files"
   ]
  },
  {
   "cell_type": "code",
   "execution_count": 4,
   "metadata": {},
   "outputs": [
    {
     "name": "stdout",
     "output_type": "stream",
     "text": [
      "\n",
      "usage: aws s3 cp <LocalPath> <S3Uri> or <S3Uri> <LocalPath> or <S3Uri> <S3Uri>\n",
      "Error: Invalid argument type\n",
      "2025-03-16 05:44:59 aws-athena-query-results-786782285170-us-east-1\n",
      "2025-03-07 06:28:33 cardiovale-solutions-datascience-pipeline\n",
      "2025-02-27 06:09:40 sagemaker-studio-gyyb8wtvkop\n",
      "2025-02-27 06:09:42 sagemaker-us-east-1-786782285170\n"
     ]
    }
   ],
   "source": [
    "\n",
    "!aws s3 cp --recursive $s3_public_path_tsv/ $s3_private_path_tsv/\n",
    "!aws s3 ls --recursive $s3_private_path_tsv"
   ]
  },
  {
   "cell_type": "code",
   "execution_count": 5,
   "metadata": {},
   "outputs": [],
   "source": [
    "# Set S3 staging directory\n",
    "s3_staging_dir = \"s3://cardiovale-solutions-datascience-pipeline/athena/staging/\""
   ]
  },
  {
   "cell_type": "code",
   "execution_count": 6,
   "metadata": {},
   "outputs": [],
   "source": [
    "# Set Athena parameters\n",
    "database_name = \"cardiovale_db\"\n",
    "table_1_name = \"create_table_cardio\"\n",
    "table_2_name = \"create_table_quitline\""
   ]
  },
  {
   "cell_type": "code",
   "execution_count": 7,
   "metadata": {},
   "outputs": [],
   "source": [
    "conn = connect(region_name=region, s3_staging_dir=s3_staging_dir)"
   ]
  },
  {
   "cell_type": "code",
   "execution_count": 8,
   "metadata": {},
   "outputs": [
    {
     "name": "stderr",
     "output_type": "stream",
     "text": [
      "/tmp/ipykernel_127/1992382966.py:3: UserWarning: pandas only supports SQLAlchemy connectable (engine/connection) or database string URI or sqlite3 DBAPI2 connection. Other DBAPI2 objects are not tested. Please consider using SQLAlchemy.\n",
      "  pd.read_sql(statement, conn)\n"
     ]
    },
    {
     "data": {
      "text/html": [
       "<div>\n",
       "<style scoped>\n",
       "    .dataframe tbody tr th:only-of-type {\n",
       "        vertical-align: middle;\n",
       "    }\n",
       "\n",
       "    .dataframe tbody tr th {\n",
       "        vertical-align: top;\n",
       "    }\n",
       "\n",
       "    .dataframe thead th {\n",
       "        text-align: right;\n",
       "    }\n",
       "</style>\n",
       "<table border=\"1\" class=\"dataframe\">\n",
       "  <thead>\n",
       "    <tr style=\"text-align: right;\">\n",
       "      <th></th>\n",
       "    </tr>\n",
       "  </thead>\n",
       "  <tbody>\n",
       "  </tbody>\n",
       "</table>\n",
       "</div>"
      ],
      "text/plain": [
       "Empty DataFrame\n",
       "Columns: []\n",
       "Index: []"
      ]
     },
     "execution_count": 8,
     "metadata": {},
     "output_type": "execute_result"
    }
   ],
   "source": [
    "# Define SQL statement to drop table\n",
    "statement = \"DROP TABLE IF EXISTS cardiovale_db.cardio_train;\"\n",
    "pd.read_sql(statement, conn)"
   ]
  },
  {
   "cell_type": "code",
   "execution_count": 9,
   "metadata": {},
   "outputs": [
    {
     "name": "stdout",
     "output_type": "stream",
     "text": [
      "CREATE EXTERNAL TABLE IF NOT EXISTS cardiovale_db.cardio_train (\n",
      "    id INT,\n",
      "    age INT,\n",
      "    gender INT,\n",
      "    height INT,\n",
      "    weight FLOAT,\n",
      "    ap_hi INT,\n",
      "    ap_lo INT,\n",
      "    cholesterol INT,\n",
      "    gluc INT,\n",
      "    smoke INT,\n",
      "    alco INT,\n",
      "    active INT,\n",
      "    cardio INT\n",
      ")\n",
      "ROW FORMAT DELIMITED \n",
      "FIELDS TERMINATED BY ',' \n",
      "LINES TERMINATED BY '\n",
      "' \n",
      "STORED AS TEXTFILE\n",
      "LOCATION 's3://cardiovale-solutions-datascience-pipeline/raw-data/'\n",
      "TBLPROPERTIES ('skip.header.line.count'='1');\n",
      "\n"
     ]
    }
   ],
   "source": [
    "# SQL statement to execute for cardio table\n",
    "statement_cardio = \"\"\"CREATE EXTERNAL TABLE IF NOT EXISTS cardiovale_db.cardio_train (\n",
    "    id INT,\n",
    "    age INT,\n",
    "    gender INT,\n",
    "    height INT,\n",
    "    weight FLOAT,\n",
    "    ap_hi INT,\n",
    "    ap_lo INT,\n",
    "    cholesterol INT,\n",
    "    gluc INT,\n",
    "    smoke INT,\n",
    "    alco INT,\n",
    "    active INT,\n",
    "    cardio INT\n",
    ")\n",
    "ROW FORMAT DELIMITED \n",
    "FIELDS TERMINATED BY ',' \n",
    "LINES TERMINATED BY '\\n' \n",
    "STORED AS TEXTFILE\n",
    "LOCATION 's3://cardiovale-solutions-datascience-pipeline/raw-data/'\n",
    "TBLPROPERTIES ('skip.header.line.count'='1');\n",
    "\"\"\"\n",
    "\n",
    "print(statement_cardio)"
   ]
  },
  {
   "cell_type": "code",
   "execution_count": 10,
   "metadata": {},
   "outputs": [
    {
     "name": "stdout",
     "output_type": "stream",
     "text": [
      "CREATE EXTERNAL TABLE IF NOT EXISTS cardiovale_db.quitline_services(\n",
      "         state STRING,\n",
      "         year INT,\n",
      "         medication_available STRING,\n",
      "         medication_type STRING\n",
      ") ROW FORMAT DELIMITED \n",
      "FIELDS TERMINATED BY ',' \n",
      "LINES TERMINATED BY '\\n' \n",
      "LOCATION 's3://cardiovale-solutions-datascience-pipeline/raw-data/Quitline_Services_Available_Medications_-_2010_To_Present_20250306.csv' \n",
      "TBLPROPERTIES ('skip.header.line.count'='1')\n"
     ]
    }
   ],
   "source": [
    "# SQL statement to execute for quitline_services table\n",
    "statement_quitline = \"\"\"CREATE EXTERNAL TABLE IF NOT EXISTS {}.{}(\n",
    "         state STRING,\n",
    "         year INT,\n",
    "         medication_available STRING,\n",
    "         medication_type STRING\n",
    ") ROW FORMAT DELIMITED \n",
    "FIELDS TERMINATED BY ',' \n",
    "LINES TERMINATED BY '\\\\n' \n",
    "LOCATION '{}' \n",
    "TBLPROPERTIES ('skip.header.line.count'='1')\"\"\".format(\n",
    "    database_name, \"quitline_services\", \"s3://cardiovale-solutions-datascience-pipeline/raw-data/Quitline_Services_Available_Medications_-_2010_To_Present_20250306.csv\"\n",
    ")\n",
    "\n",
    "print(statement_quitline)\n"
   ]
  },
  {
   "cell_type": "code",
   "execution_count": 15,
   "metadata": {},
   "outputs": [
    {
     "name": "stderr",
     "output_type": "stream",
     "text": [
      "/tmp/ipykernel_127/1048700737.py:3: UserWarning: pandas only supports SQLAlchemy connectable (engine/connection) or database string URI or sqlite3 DBAPI2 connection. Other DBAPI2 objects are not tested. Please consider using SQLAlchemy.\n",
      "  pd.read_sql(statement_cardio, conn)\n"
     ]
    },
    {
     "data": {
      "text/html": [
       "<div>\n",
       "<style scoped>\n",
       "    .dataframe tbody tr th:only-of-type {\n",
       "        vertical-align: middle;\n",
       "    }\n",
       "\n",
       "    .dataframe tbody tr th {\n",
       "        vertical-align: top;\n",
       "    }\n",
       "\n",
       "    .dataframe thead th {\n",
       "        text-align: right;\n",
       "    }\n",
       "</style>\n",
       "<table border=\"1\" class=\"dataframe\">\n",
       "  <thead>\n",
       "    <tr style=\"text-align: right;\">\n",
       "      <th></th>\n",
       "    </tr>\n",
       "  </thead>\n",
       "  <tbody>\n",
       "  </tbody>\n",
       "</table>\n",
       "</div>"
      ],
      "text/plain": [
       "Empty DataFrame\n",
       "Columns: []\n",
       "Index: []"
      ]
     },
     "execution_count": 15,
     "metadata": {},
     "output_type": "execute_result"
    }
   ],
   "source": [
    "import pandas as pd\n",
    "\n",
    "pd.read_sql(statement_cardio, conn)"
   ]
  },
  {
   "cell_type": "code",
   "execution_count": 16,
   "metadata": {},
   "outputs": [
    {
     "name": "stderr",
     "output_type": "stream",
     "text": [
      "/tmp/ipykernel_127/856595348.py:1: UserWarning: pandas only supports SQLAlchemy connectable (engine/connection) or database string URI or sqlite3 DBAPI2 connection. Other DBAPI2 objects are not tested. Please consider using SQLAlchemy.\n",
      "  pd.read_sql(statement_quitline, conn)\n"
     ]
    },
    {
     "data": {
      "text/html": [
       "<div>\n",
       "<style scoped>\n",
       "    .dataframe tbody tr th:only-of-type {\n",
       "        vertical-align: middle;\n",
       "    }\n",
       "\n",
       "    .dataframe tbody tr th {\n",
       "        vertical-align: top;\n",
       "    }\n",
       "\n",
       "    .dataframe thead th {\n",
       "        text-align: right;\n",
       "    }\n",
       "</style>\n",
       "<table border=\"1\" class=\"dataframe\">\n",
       "  <thead>\n",
       "    <tr style=\"text-align: right;\">\n",
       "      <th></th>\n",
       "    </tr>\n",
       "  </thead>\n",
       "  <tbody>\n",
       "  </tbody>\n",
       "</table>\n",
       "</div>"
      ],
      "text/plain": [
       "Empty DataFrame\n",
       "Columns: []\n",
       "Index: []"
      ]
     },
     "execution_count": 16,
     "metadata": {},
     "output_type": "execute_result"
    }
   ],
   "source": [
    "pd.read_sql(statement_quitline, conn)"
   ]
  },
  {
   "cell_type": "markdown",
   "metadata": {},
   "source": [
    "# Verify The Table Has Been Created Succesfully"
   ]
  },
  {
   "cell_type": "code",
   "execution_count": 17,
   "metadata": {},
   "outputs": [
    {
     "name": "stderr",
     "output_type": "stream",
     "text": [
      "/tmp/ipykernel_127/2201015668.py:3: UserWarning: pandas only supports SQLAlchemy connectable (engine/connection) or database string URI or sqlite3 DBAPI2 connection. Other DBAPI2 objects are not tested. Please consider using SQLAlchemy.\n",
      "  df_show = pd.read_sql(statement, conn)\n"
     ]
    },
    {
     "data": {
      "text/html": [
       "<div>\n",
       "<style scoped>\n",
       "    .dataframe tbody tr th:only-of-type {\n",
       "        vertical-align: middle;\n",
       "    }\n",
       "\n",
       "    .dataframe tbody tr th {\n",
       "        vertical-align: top;\n",
       "    }\n",
       "\n",
       "    .dataframe thead th {\n",
       "        text-align: right;\n",
       "    }\n",
       "</style>\n",
       "<table border=\"1\" class=\"dataframe\">\n",
       "  <thead>\n",
       "    <tr style=\"text-align: right;\">\n",
       "      <th></th>\n",
       "      <th>tab_name</th>\n",
       "    </tr>\n",
       "  </thead>\n",
       "  <tbody>\n",
       "    <tr>\n",
       "      <th>0</th>\n",
       "      <td>_ipynb_checkpoints</td>\n",
       "    </tr>\n",
       "    <tr>\n",
       "      <th>1</th>\n",
       "      <td>cardio_train</td>\n",
       "    </tr>\n",
       "    <tr>\n",
       "      <th>2</th>\n",
       "      <td>cardio_train_csv</td>\n",
       "    </tr>\n",
       "    <tr>\n",
       "      <th>3</th>\n",
       "      <td>quitline___services_available___medications___...</td>\n",
       "    </tr>\n",
       "    <tr>\n",
       "      <th>4</th>\n",
       "      <td>quitline_services</td>\n",
       "    </tr>\n",
       "  </tbody>\n",
       "</table>\n",
       "</div>"
      ],
      "text/plain": [
       "                                            tab_name\n",
       "0                                 _ipynb_checkpoints\n",
       "1                                       cardio_train\n",
       "2                                   cardio_train_csv\n",
       "3  quitline___services_available___medications___...\n",
       "4                                  quitline_services"
      ]
     },
     "execution_count": 17,
     "metadata": {},
     "output_type": "execute_result"
    }
   ],
   "source": [
    "statement = \"SHOW TABLES in {}\".format(database_name)\n",
    "\n",
    "df_show = pd.read_sql(statement, conn)\n",
    "df_show.head(5)"
   ]
  },
  {
   "cell_type": "code",
   "execution_count": 18,
   "metadata": {},
   "outputs": [],
   "source": [
    "if (table_1_name and table_2_name) in df_show.values:\n",
    "    ingest_create_athena_table_cardio_passed = True"
   ]
  },
  {
   "cell_type": "markdown",
   "metadata": {},
   "source": [
    "# Run A Sample Query for cardio table"
   ]
  },
  {
   "cell_type": "code",
   "execution_count": 19,
   "metadata": {},
   "outputs": [
    {
     "name": "stdout",
     "output_type": "stream",
     "text": [
      "SELECT * FROM cardiovale_db.cardio_train_csv LIMIT 10\n"
     ]
    }
   ],
   "source": [
    "statement = \"\"\"SELECT * FROM {}.{} LIMIT 10\"\"\".format(\n",
    "    database_name, \"cardio_train_csv\"\n",
    ")\n",
    "\n",
    "print(statement)\n"
   ]
  },
  {
   "cell_type": "code",
   "execution_count": 20,
   "metadata": {},
   "outputs": [
    {
     "name": "stderr",
     "output_type": "stream",
     "text": [
      "/tmp/ipykernel_127/2446512133.py:1: UserWarning: pandas only supports SQLAlchemy connectable (engine/connection) or database string URI or sqlite3 DBAPI2 connection. Other DBAPI2 objects are not tested. Please consider using SQLAlchemy.\n",
      "  df = pd.read_sql(statement, conn)\n"
     ]
    },
    {
     "data": {
      "text/html": [
       "<div>\n",
       "<style scoped>\n",
       "    .dataframe tbody tr th:only-of-type {\n",
       "        vertical-align: middle;\n",
       "    }\n",
       "\n",
       "    .dataframe tbody tr th {\n",
       "        vertical-align: top;\n",
       "    }\n",
       "\n",
       "    .dataframe thead th {\n",
       "        text-align: right;\n",
       "    }\n",
       "</style>\n",
       "<table border=\"1\" class=\"dataframe\">\n",
       "  <thead>\n",
       "    <tr style=\"text-align: right;\">\n",
       "      <th></th>\n",
       "      <th>id</th>\n",
       "      <th>age</th>\n",
       "      <th>gender</th>\n",
       "      <th>height</th>\n",
       "      <th>weight</th>\n",
       "      <th>ap_hi</th>\n",
       "      <th>ap_lo</th>\n",
       "      <th>cholesterol</th>\n",
       "      <th>gluc</th>\n",
       "      <th>smoke</th>\n",
       "      <th>alco</th>\n",
       "      <th>active</th>\n",
       "      <th>cardio</th>\n",
       "    </tr>\n",
       "  </thead>\n",
       "  <tbody>\n",
       "  </tbody>\n",
       "</table>\n",
       "</div>"
      ],
      "text/plain": [
       "Empty DataFrame\n",
       "Columns: [id, age, gender, height, weight, ap_hi, ap_lo, cholesterol, gluc, smoke, alco, active, cardio]\n",
       "Index: []"
      ]
     },
     "execution_count": 20,
     "metadata": {},
     "output_type": "execute_result"
    }
   ],
   "source": [
    "df = pd.read_sql(statement, conn)\n",
    "df.head(5)"
   ]
  },
  {
   "cell_type": "code",
   "execution_count": 22,
   "metadata": {},
   "outputs": [
    {
     "name": "stdout",
     "output_type": "stream",
     "text": [
      "Collecting awswrangler\n",
      "  Using cached awswrangler-3.11.0-py3-none-any.whl.metadata (17 kB)\n",
      "Requirement already satisfied: boto3<2.0.0,>=1.20.32 in /opt/conda/lib/python3.11/site-packages (from awswrangler) (1.36.3)\n",
      "Requirement already satisfied: botocore<2.0.0,>=1.23.32 in /opt/conda/lib/python3.11/site-packages (from awswrangler) (1.36.3)\n",
      "Requirement already satisfied: numpy<3.0,>=1.26 in /opt/conda/lib/python3.11/site-packages (from awswrangler) (1.26.4)\n",
      "Requirement already satisfied: packaging<25.0,>=21.1 in /opt/conda/lib/python3.11/site-packages (from awswrangler) (24.2)\n",
      "Requirement already satisfied: pandas<3.0.0,>=1.2.0 in /opt/conda/lib/python3.11/site-packages (from awswrangler) (2.2.3)\n",
      "Requirement already satisfied: pyarrow<19.0.0,>=8.0.0 in /opt/conda/lib/python3.11/site-packages (from awswrangler) (17.0.0)\n",
      "Requirement already satisfied: typing-extensions<5.0.0,>=4.4.0 in /opt/conda/lib/python3.11/site-packages (from awswrangler) (4.12.2)\n",
      "Requirement already satisfied: jmespath<2.0.0,>=0.7.1 in /opt/conda/lib/python3.11/site-packages (from boto3<2.0.0,>=1.20.32->awswrangler) (1.0.1)\n",
      "Requirement already satisfied: s3transfer<0.12.0,>=0.11.0 in /opt/conda/lib/python3.11/site-packages (from boto3<2.0.0,>=1.20.32->awswrangler) (0.11.2)\n",
      "Requirement already satisfied: python-dateutil<3.0.0,>=2.1 in /opt/conda/lib/python3.11/site-packages (from botocore<2.0.0,>=1.23.32->awswrangler) (2.9.0.post0)\n",
      "Requirement already satisfied: urllib3!=2.2.0,<3,>=1.25.4 in /opt/conda/lib/python3.11/site-packages (from botocore<2.0.0,>=1.23.32->awswrangler) (1.26.19)\n",
      "Requirement already satisfied: pytz>=2020.1 in /opt/conda/lib/python3.11/site-packages (from pandas<3.0.0,>=1.2.0->awswrangler) (2024.1)\n",
      "Requirement already satisfied: tzdata>=2022.7 in /opt/conda/lib/python3.11/site-packages (from pandas<3.0.0,>=1.2.0->awswrangler) (2025.1)\n",
      "Requirement already satisfied: six>=1.5 in /opt/conda/lib/python3.11/site-packages (from python-dateutil<3.0.0,>=2.1->botocore<2.0.0,>=1.23.32->awswrangler) (1.17.0)\n",
      "Using cached awswrangler-3.11.0-py3-none-any.whl (379 kB)\n",
      "Installing collected packages: awswrangler\n",
      "Successfully installed awswrangler-3.11.0\n"
     ]
    }
   ],
   "source": [
    "!pip install awswrangler\n"
   ]
  },
  {
   "cell_type": "code",
   "execution_count": 23,
   "metadata": {},
   "outputs": [
    {
     "name": "stderr",
     "output_type": "stream",
     "text": [
      "2025-03-17 02:11:49,115\tWARNING services.py:2022 -- WARNING: The object store is using /tmp instead of /dev/shm because /dev/shm has only 1895804928 bytes available. This will harm performance! You may be able to free up space by deleting files in /dev/shm. If you are inside a Docker container, you can increase /dev/shm size by passing '--shm-size=4.75gb' to 'docker run' (or add it to the run_options list in a Ray cluster config). Make sure to set this to more than 30% of available RAM.\n",
      "2025-03-17 02:11:50,270\tINFO worker.py:1786 -- Started a local Ray instance.\n"
     ]
    },
    {
     "name": "stdout",
     "output_type": "stream",
     "text": [
      "  id;age;gender;height;weight;ap_hi;ap_lo;cholesterol;gluc;smoke;alco;active;cardio\n",
      "0              0;18393;2;168;62.0;110;80;1;1;0;0;1;0                               \n",
      "1              1;20228;1;156;85.0;140;90;3;1;0;0;1;1                               \n",
      "2              2;18857;1;165;64.0;130;70;3;1;0;0;0;1                               \n",
      "3             3;17623;2;169;82.0;150;100;1;1;0;0;1;1                               \n",
      "4              4;17474;1;156;56.0;100;60;1;1;0;0;0;0                               \n"
     ]
    }
   ],
   "source": [
    "import awswrangler as wr\n",
    "\n",
    "df = wr.s3.read_csv(\"s3://cardiovale-solutions-datascience-pipeline/raw-data/cardio_train.csv\")\n",
    "print(df.head())\n"
   ]
  },
  {
   "cell_type": "markdown",
   "metadata": {},
   "source": [
    "# Run A Sample Query for quitline table"
   ]
  },
  {
   "cell_type": "code",
   "execution_count": 24,
   "metadata": {},
   "outputs": [
    {
     "name": "stdout",
     "output_type": "stream",
     "text": [
      "SELECT * FROM cardiovale_db.quitline___services_available___medications___2010_to_present_20250306_csv LIMIT 10\n"
     ]
    }
   ],
   "source": [
    "statement = \"\"\"SELECT * FROM {}.{} LIMIT 10\"\"\".format(\n",
    "    database_name, \"quitline___services_available___medications___2010_to_present_20250306_csv\"\n",
    ")\n",
    "\n",
    "print(statement)\n"
   ]
  },
  {
   "cell_type": "code",
   "execution_count": 25,
   "metadata": {},
   "outputs": [
    {
     "name": "stderr",
     "output_type": "stream",
     "text": [
      "/tmp/ipykernel_127/2446512133.py:1: UserWarning: pandas only supports SQLAlchemy connectable (engine/connection) or database string URI or sqlite3 DBAPI2 connection. Other DBAPI2 objects are not tested. Please consider using SQLAlchemy.\n",
      "  df = pd.read_sql(statement, conn)\n"
     ]
    },
    {
     "data": {
      "text/html": [
       "<div>\n",
       "<style scoped>\n",
       "    .dataframe tbody tr th:only-of-type {\n",
       "        vertical-align: middle;\n",
       "    }\n",
       "\n",
       "    .dataframe tbody tr th {\n",
       "        vertical-align: top;\n",
       "    }\n",
       "\n",
       "    .dataframe thead th {\n",
       "        text-align: right;\n",
       "    }\n",
       "</style>\n",
       "<table border=\"1\" class=\"dataframe\">\n",
       "  <thead>\n",
       "    <tr style=\"text-align: right;\">\n",
       "      <th></th>\n",
       "      <th>year</th>\n",
       "      <th>date</th>\n",
       "      <th>date_ref</th>\n",
       "      <th>locationabbr</th>\n",
       "      <th>locationdesc</th>\n",
       "      <th>topictype</th>\n",
       "      <th>topicdesc</th>\n",
       "      <th>measuredesc</th>\n",
       "      <th>sub-measure</th>\n",
       "      <th>variable</th>\n",
       "      <th>...</th>\n",
       "      <th>number_of_weeks_offered</th>\n",
       "      <th>limit_per_year</th>\n",
       "      <th>comments</th>\n",
       "      <th>geolocation</th>\n",
       "      <th>topictypeid</th>\n",
       "      <th>topicid</th>\n",
       "      <th>measureid</th>\n",
       "      <th>source</th>\n",
       "      <th>submeasureid</th>\n",
       "      <th>displayorder</th>\n",
       "    </tr>\n",
       "  </thead>\n",
       "  <tbody>\n",
       "  </tbody>\n",
       "</table>\n",
       "<p>0 rows × 41 columns</p>\n",
       "</div>"
      ],
      "text/plain": [
       "Empty DataFrame\n",
       "Columns: [year, date, date_ref, locationabbr, locationdesc, topictype, topicdesc, measuredesc, sub-measure, variable, offered_for_free, offered_for_free_text, geographic_requirements, geographic_requirements_text, age_requirements, age_requirements_text, readiness_to_quit_requirements, readiness_to_quit_requirements_text, counseling_requirements, counseling_requirements_text, physician_approval_required, physician_approval_required_text, medical_restrictions, medical_restrictions_text, insurance_requirements, insurance_requirements_text, other_requirements, other_requirements_text, limited_supply, limited_supply_text, unlimited_weeks_offered, number_of_weeks_offered, limit_per_year, comments, geolocation, topictypeid, topicid, measureid, source, submeasureid, displayorder]\n",
       "Index: []\n",
       "\n",
       "[0 rows x 41 columns]"
      ]
     },
     "execution_count": 25,
     "metadata": {},
     "output_type": "execute_result"
    }
   ],
   "source": [
    "df = pd.read_sql(statement, conn)\n",
    "df.head(5)"
   ]
  },
  {
   "cell_type": "code",
   "execution_count": 27,
   "metadata": {},
   "outputs": [
    {
     "name": "stdout",
     "output_type": "stream",
     "text": [
      "   Year  Date Date_Ref LocationAbbr LocationDesc TopicType  \\\n",
      "0  2020    12  Jul-Dec           GA      Georgia  Quitline   \n",
      "1  2020    12  Jul-Dec           MO     Missouri  Quitline   \n",
      "2  2020    12  Jul-Dec           MT      Montana  Quitline   \n",
      "3  2020    12  Jul-Dec           NJ   New Jersey  Quitline   \n",
      "4  2020    12  Jul-Dec           OK     Oklahoma  Quitline   \n",
      "\n",
      "            TopicDesc  MeasureDesc         Sub-Measure              Variable  \\\n",
      "0  Services Available  Medications    Nicotine Lozenge                   NaN   \n",
      "1  Services Available  Medications    Nicotine Lozenge                   NaN   \n",
      "2  Services Available  Medications  Bupropion (Zyban®)                   NaN   \n",
      "3  Services Available  Medications    Nicotine Lozenge                   NaN   \n",
      "4  Services Available  Medications        Nicotine Gum  All Eligible Callers   \n",
      "\n",
      "   ... Number_of_Weeks_Offered    Limit_Per_Year Comments  \\\n",
      "0  ...                     NaN               NaN      NaN   \n",
      "1  ...                     NaN               NaN      NaN   \n",
      "2  ...                     NaN               NaN      NaN   \n",
      "3  ...                     NaN               NaN      NaN   \n",
      "4  ...                     2.0  2 times per year      NaN   \n",
      "\n",
      "                                GeoLocation TopicTypeId TopicId MeasureID  \\\n",
      "0   (32.83968109300048, -83.62758034599966)         QUI  900QUI    912MED   \n",
      "1  (38.635790776000476, -92.56630005299968)         QUI  900QUI    912MED   \n",
      "2  (47.06652897200047, -109.42442064499971)         QUI  900QUI    912MED   \n",
      "3   (40.13057004800049, -74.27369128799967)         QUI  900QUI    912MED   \n",
      "4   (35.47203135600046, -97.52107021399968)         QUI  900QUI    912MED   \n",
      "\n",
      "                                              SOURCE SubMeasureID DisplayOrder  \n",
      "0  National Quitline Data Warehouse, Office on Sm...        QUT07            7  \n",
      "1  National Quitline Data Warehouse, Office on Sm...        QUT07            7  \n",
      "2  National Quitline Data Warehouse, Office on Sm...        QUT10           10  \n",
      "3  National Quitline Data Warehouse, Office on Sm...        QUT07            7  \n",
      "4  National Quitline Data Warehouse, Office on Sm...        QUT06            6  \n",
      "\n",
      "[5 rows x 41 columns]\n"
     ]
    },
    {
     "name": "stderr",
     "output_type": "stream",
     "text": [
      "*** SIGTERM received at time=1742177708 on cpu 0 ***\n",
      "PC: @     0x7f3866128e2e  (unknown)  epoll_wait\n",
      "    @     0x7f37fe1a64fd         64  absl::lts_20230802::AbslFailureSignalHandler()\n",
      "    @     0x7f3866045520  (unknown)  (unknown)\n",
      "[2025-03-17 02:15:08,662 E 127 127] logging.cc:440: *** SIGTERM received at time=1742177708 on cpu 0 ***\n",
      "[2025-03-17 02:15:08,662 E 127 127] logging.cc:440: PC: @     0x7f3866128e2e  (unknown)  epoll_wait\n",
      "[2025-03-17 02:15:08,665 E 127 127] logging.cc:440:     @     0x7f37fe1a6529         64  absl::lts_20230802::AbslFailureSignalHandler()\n",
      "[2025-03-17 02:15:08,665 E 127 127] logging.cc:440:     @     0x7f3866045520  (unknown)  (unknown)\n"
     ]
    }
   ],
   "source": [
    "import awswrangler as wr\n",
    "\n",
    "df = wr.s3.read_csv(\"s3://cardiovale-solutions-datascience-pipeline/raw-data/Quitline___Services_Available___Medications_-_2010_To_Present_20250306.csv\")\n",
    "print(df.head())\n"
   ]
  },
  {
   "cell_type": "code",
   "execution_count": 21,
   "metadata": {},
   "outputs": [
    {
     "name": "stdout",
     "output_type": "stream",
     "text": [
      "[OK]\n"
     ]
    }
   ],
   "source": [
    "if not df.empty:\n",
    "    print(\"[OK]\")\n",
    "else:\n",
    "    print(\"++++++++++++++++++++++++++++++++++++++++++++++++++++++\")\n",
    "    print(\"[ERROR] YOUR DATA HAS NOT BEEN REGISTERED WITH ATHENA. LOOK IN PREVIOUS CELLS TO FIND THE ISSUE.\")\n",
    "    print(\"++++++++++++++++++++++++++++++++++++++++++++++++++++++\")"
   ]
  },
  {
   "cell_type": "markdown",
   "metadata": {},
   "source": [
    "# Review the New Athena Table in the Glue Catalog"
   ]
  },
  {
   "cell_type": "code",
   "execution_count": 22,
   "metadata": {},
   "outputs": [
    {
     "name": "stderr",
     "output_type": "stream",
     "text": [
      "/tmp/ipykernel_708/4130537117.py:1: DeprecationWarning: Importing display from IPython.core.display is deprecated since IPython 7.14, please import from IPython.display\n",
      "  from IPython.core.display import display, HTML\n"
     ]
    },
    {
     "data": {
      "text/html": [
       "<b>Review <a target=\"top\" href=\"https://console.aws.amazon.com/glue/home?region=us-east-1#\">AWS Glue Catalog</a></b>"
      ],
      "text/plain": [
       "<IPython.core.display.HTML object>"
      ]
     },
     "metadata": {},
     "output_type": "display_data"
    }
   ],
   "source": [
    "from IPython.core.display import display, HTML\n",
    "\n",
    "display(\n",
    "    HTML(\n",
    "        '<b>Review <a target=\"top\" href=\"https://console.aws.amazon.com/glue/home?region={}#\">AWS Glue Catalog</a></b>'.format(\n",
    "            region\n",
    "        )\n",
    "    )\n",
    ")"
   ]
  },
  {
   "cell_type": "markdown",
   "metadata": {},
   "source": [
    "# Store Variables for the Next Notebooks"
   ]
  },
  {
   "cell_type": "code",
   "execution_count": 23,
   "metadata": {},
   "outputs": [
    {
     "name": "stdout",
     "output_type": "stream",
     "text": [
      "Stored variables and their in-db values:\n",
      "ingest_create_athena_db_passed                    -> True\n",
      "ingest_create_athena_table_tsv_passed             -> True\n",
      "s3_private_path_tsv                               -> 's3://sagemaker-us-east-1-786782285170/amazon-revi\n",
      "s3_public_path_tsv                                -> 's3://usd-mads-508/amazon-reviews-pds/tsv'\n",
      "setup_dependencies_passed                         -> True\n",
      "setup_iam_roles_passed                            -> True\n",
      "setup_instance_check_passed                       -> True\n",
      "setup_s3_bucket_passed                            -> True\n"
     ]
    }
   ],
   "source": [
    "%store"
   ]
  },
  {
   "cell_type": "markdown",
   "metadata": {},
   "source": [
    "# Release Resources"
   ]
  },
  {
   "cell_type": "code",
   "execution_count": 24,
   "metadata": {},
   "outputs": [
    {
     "data": {
      "text/html": [
       "\n",
       "<p><b>Shutting down your kernel for this notebook to release resources.</b></p>\n",
       "<button class=\"sm-command-button\" data-commandlinker-command=\"kernelmenu:shutdown\" style=\"display:none;\">Shutdown Kernel</button>\n",
       "        \n",
       "<script>\n",
       "try {\n",
       "    els = document.getElementsByClassName(\"sm-command-button\");\n",
       "    els[0].click();\n",
       "}\n",
       "catch(err) {\n",
       "    // NoOp\n",
       "}    \n",
       "</script>\n"
      ],
      "text/plain": [
       "<IPython.core.display.HTML object>"
      ]
     },
     "metadata": {},
     "output_type": "display_data"
    }
   ],
   "source": [
    "%%html\n",
    "\n",
    "<p><b>Shutting down your kernel for this notebook to release resources.</b></p>\n",
    "<button class=\"sm-command-button\" data-commandlinker-command=\"kernelmenu:shutdown\" style=\"display:none;\">Shutdown Kernel</button>\n",
    "        \n",
    "<script>\n",
    "try {\n",
    "    els = document.getElementsByClassName(\"sm-command-button\");\n",
    "    els[0].click();\n",
    "}\n",
    "catch(err) {\n",
    "    // NoOp\n",
    "}    \n",
    "</script>"
   ]
  },
  {
   "cell_type": "code",
   "execution_count": null,
   "metadata": {},
   "outputs": [],
   "source": [
    "%%javascript\n",
    "\n",
    "try {\n",
    "    Jupyter.notebook.save_checkpoint();\n",
    "    Jupyter.notebook.session.delete();\n",
    "}\n",
    "catch(err) {\n",
    "    // NoOp\n",
    "}"
   ]
  },
  {
   "cell_type": "code",
   "execution_count": null,
   "metadata": {},
   "outputs": [],
   "source": []
  }
 ],
 "metadata": {
  "instance_type": "ml.t3.medium",
  "kernelspec": {
   "display_name": "Python 3 (ipykernel)",
   "language": "python",
   "name": "python3"
  },
  "language_info": {
   "codemirror_mode": {
    "name": "ipython",
    "version": 3
   },
   "file_extension": ".py",
   "mimetype": "text/x-python",
   "name": "python",
   "nbconvert_exporter": "python",
   "pygments_lexer": "ipython3",
   "version": "3.11.11"
  }
 },
 "nbformat": 4,
 "nbformat_minor": 4
}
