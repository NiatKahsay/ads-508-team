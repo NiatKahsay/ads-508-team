{
 "cells": [
  {
   "cell_type": "markdown",
   "metadata": {},
   "source": [
    "# Run Data Bias Analysis with SageMaker Clarify (Pre-Training)\n",
    "\n",
    "## Using SageMaker Processing Jobs"
   ]
  },
  {
   "cell_type": "code",
   "execution_count": 1,
   "metadata": {},
   "outputs": [
    {
     "name": "stderr",
     "output_type": "stream",
     "text": [
      "/opt/conda/lib/python3.11/site-packages/pydantic/_internal/_fields.py:192: UserWarning: Field name \"json\" in \"MonitoringDatasetFormat\" shadows an attribute in parent \"Base\"\n",
      "  warnings.warn(\n"
     ]
    },
    {
     "name": "stdout",
     "output_type": "stream",
     "text": [
      "sagemaker.config INFO - Not applying SDK defaults from location: /etc/xdg/sagemaker/config.yaml\n",
      "sagemaker.config INFO - Not applying SDK defaults from location: /home/sagemaker-user/.config/sagemaker/config.yaml\n",
      "Using S3 Bucket: cardiovale-solutions-datascience-pipeline\n",
      "Using IAM Role: arn:aws:iam::786782285170:role/LabRole\n",
      "AWS Region: us-east-1\n"
     ]
    }
   ],
   "source": [
    "import boto3\n",
    "import sagemaker\n",
    "import pandas as pd\n",
    "import numpy as np\n",
    "import matplotlib.pyplot as plt\n",
    "\n",
    "# Initialize SageMaker Session\n",
    "sess = sagemaker.Session()\n",
    "\n",
    "# Use your S3 bucket instead of default\n",
    "bucket = \"cardiovale-solutions-datascience-pipeline\"\n",
    "\n",
    "# Ensure correct IAM Role\n",
    "try:\n",
    "    role = sagemaker.get_execution_role()  # Works in SageMaker Studio\n",
    "except:\n",
    "    role = \"arn:aws:iam::<YOUR_ACCOUNT_ID>:role/service-role/AmazonSageMaker-ExecutionRole\"\n",
    "\n",
    "# Get AWS Region\n",
    "region = boto3.Session().region_name\n",
    "\n",
    "# Initialize SageMaker & AWS Clients\n",
    "sm = boto3.client(\"sagemaker\", region_name=region)  # SageMaker client\n",
    "s3 = boto3.client(\"s3\", region_name=region)  # S3 client\n",
    "athena = boto3.client(\"athena\", region_name=region)  # Athena client (if needed)\n",
    "\n",
    "# Print to verify\n",
    "print(f\"Using S3 Bucket: {bucket}\")\n",
    "print(f\"Using IAM Role: {role}\")\n",
    "print(f\"AWS Region: {region}\")\n"
   ]
  },
  {
   "cell_type": "markdown",
   "metadata": {},
   "source": [
    "# Get Data from S3"
   ]
  },
  {
   "cell_type": "code",
   "execution_count": 4,
   "metadata": {},
   "outputs": [
    {
     "name": "stdout",
     "output_type": "stream",
     "text": [
      "                           PRE .ipynb_checkpoints/\n",
      "                           PRE Unsaved/\n",
      "2025-03-07 06:39:44    6934258 Quitline___Services_Available___Medications_-_2010_To_Present_20250306.csv\n",
      "2025-03-07 06:39:44    2941524 cardio_train.csv\n"
     ]
    }
   ],
   "source": [
    "!aws s3 ls s3://cardiovale-solutions-datascience-pipeline/raw-data/"
   ]
  },
  {
   "cell_type": "code",
   "execution_count": 7,
   "metadata": {},
   "outputs": [
    {
     "name": "stdout",
     "output_type": "stream",
     "text": [
      "Cardio Data S3 URI: s3://cardiovale-solutions-datascience-pipeline/raw-data/cardio_train.csv\n",
      "Quitline Data S3 URI: s3://cardiovale-solutions-datascience-pipeline/raw-data/Quitline___Services_Available___Medications_-_2010_To_Present_20250306.csv\n",
      "download: s3://cardiovale-solutions-datascience-pipeline/raw-data/cardio_train.csv to ../data/cardio_train.csv\n",
      "download: s3://cardiovale-solutions-datascience-pipeline/raw-data/Quitline___Services_Available___Medications_-_2010_To_Present_20250306.csv to ../data/Quitline___Services_Available___Medications_-_2010_To_Present_20250306.csv\n",
      "\n",
      "Cardio Dataset Sample:\n",
      "   id    age  gender  height  weight  ap_hi  ap_lo  cholesterol  gluc  smoke  \\\n",
      "0   0  18393       2     168    62.0    110     80            1     1      0   \n",
      "1   1  20228       1     156    85.0    140     90            3     1      0   \n",
      "2   2  18857       1     165    64.0    130     70            3     1      0   \n",
      "3   3  17623       2     169    82.0    150    100            1     1      0   \n",
      "4   4  17474       1     156    56.0    100     60            1     1      0   \n",
      "\n",
      "   alco  active  cardio  \n",
      "0     0       1       0  \n",
      "1     0       1       1  \n",
      "2     0       0       1  \n",
      "3     0       1       1  \n",
      "4     0       0       0  \n",
      "\n",
      "Quitline Dataset Sample:\n",
      "   Year  Date Date_Ref LocationAbbr LocationDesc TopicType  \\\n",
      "0  2020    12  Jul-Dec           GA      Georgia  Quitline   \n",
      "1  2020    12  Jul-Dec           MO     Missouri  Quitline   \n",
      "2  2020    12  Jul-Dec           MT      Montana  Quitline   \n",
      "3  2020    12  Jul-Dec           NJ   New Jersey  Quitline   \n",
      "4  2020    12  Jul-Dec           OK     Oklahoma  Quitline   \n",
      "\n",
      "            TopicDesc  MeasureDesc         Sub-Measure              Variable  \\\n",
      "0  Services Available  Medications    Nicotine Lozenge                   NaN   \n",
      "1  Services Available  Medications    Nicotine Lozenge                   NaN   \n",
      "2  Services Available  Medications  Bupropion (Zyban®)                   NaN   \n",
      "3  Services Available  Medications    Nicotine Lozenge                   NaN   \n",
      "4  Services Available  Medications        Nicotine Gum  All Eligible Callers   \n",
      "\n",
      "   ... Number_of_Weeks_Offered    Limit_Per_Year Comments  \\\n",
      "0  ...                     NaN               NaN      NaN   \n",
      "1  ...                     NaN               NaN      NaN   \n",
      "2  ...                     NaN               NaN      NaN   \n",
      "3  ...                     NaN               NaN      NaN   \n",
      "4  ...                     2.0  2 times per year      NaN   \n",
      "\n",
      "                                GeoLocation TopicTypeId TopicId MeasureID  \\\n",
      "0   (32.83968109300048, -83.62758034599966)         QUI  900QUI    912MED   \n",
      "1  (38.635790776000476, -92.56630005299968)         QUI  900QUI    912MED   \n",
      "2  (47.06652897200047, -109.42442064499971)         QUI  900QUI    912MED   \n",
      "3   (40.13057004800049, -74.27369128799967)         QUI  900QUI    912MED   \n",
      "4   (35.47203135600046, -97.52107021399968)         QUI  900QUI    912MED   \n",
      "\n",
      "                                              SOURCE SubMeasureID DisplayOrder  \n",
      "0  National Quitline Data Warehouse, Office on Sm...        QUT07            7  \n",
      "1  National Quitline Data Warehouse, Office on Sm...        QUT07            7  \n",
      "2  National Quitline Data Warehouse, Office on Sm...        QUT10           10  \n",
      "3  National Quitline Data Warehouse, Office on Sm...        QUT07            7  \n",
      "4  National Quitline Data Warehouse, Office on Sm...        QUT06            6  \n",
      "\n",
      "[5 rows x 41 columns]\n"
     ]
    }
   ],
   "source": [
    "# Define S3 Data Paths\n",
    "cardio_s3_uri = \"s3://cardiovale-solutions-datascience-pipeline/raw-data/cardio_train.csv\"\n",
    "quitline_s3_uri = \"s3://cardiovale-solutions-datascience-pipeline/raw-data/Quitline___Services_Available___Medications_-_2010_To_Present_20250306.csv\"\n",
    "\n",
    "# Define Local Storage Directory\n",
    "local_data_dir = \"/home/sagemaker-user/ads-508-team/data/\"\n",
    "\n",
    "# Print Paths for Verification\n",
    "print(\"Cardio Data S3 URI:\", cardio_s3_uri)\n",
    "print(\"Quitline Data S3 URI:\", quitline_s3_uri)\n",
    "\n",
    "# Download Data from S3 to Local\n",
    "!aws s3 cp {cardio_s3_uri} {local_data_dir}\n",
    "!aws s3 cp {quitline_s3_uri} {local_data_dir}\n",
    "\n",
    "# Load Data into Pandas\n",
    "import pandas as pd\n",
    "\n",
    "cardio_df = pd.read_csv(f\"{local_data_dir}/cardio_train.csv\", delimiter=\";\")\n",
    "quitline_df = pd.read_csv(f\"{local_data_dir}/Quitline___Services_Available___Medications_-_2010_To_Present_20250306.csv\", delimiter=\",\")\n",
    "\n",
    "# Display Data Samples\n",
    "print(\"\\nCardio Dataset Sample:\")\n",
    "print(cardio_df.head())\n",
    "\n",
    "print(\"\\nQuitline Dataset Sample:\")\n",
    "print(quitline_df.head())\n"
   ]
  },
  {
   "cell_type": "code",
   "execution_count": 11,
   "metadata": {},
   "outputs": [
    {
     "data": {
      "text/html": [
       "<div>\n",
       "<style scoped>\n",
       "    .dataframe tbody tr th:only-of-type {\n",
       "        vertical-align: middle;\n",
       "    }\n",
       "\n",
       "    .dataframe tbody tr th {\n",
       "        vertical-align: top;\n",
       "    }\n",
       "\n",
       "    .dataframe thead th {\n",
       "        text-align: right;\n",
       "    }\n",
       "</style>\n",
       "<table border=\"1\" class=\"dataframe\">\n",
       "  <thead>\n",
       "    <tr style=\"text-align: right;\">\n",
       "      <th></th>\n",
       "      <th>id;age;gender;height;weight;ap_hi;ap_lo;cholesterol;gluc;smoke;alco;active;cardio</th>\n",
       "    </tr>\n",
       "  </thead>\n",
       "  <tbody>\n",
       "    <tr>\n",
       "      <th>0</th>\n",
       "      <td>0;18393;2;168;62.0;110;80;1;1;0;0;1;0</td>\n",
       "    </tr>\n",
       "    <tr>\n",
       "      <th>1</th>\n",
       "      <td>1;20228;1;156;85.0;140;90;3;1;0;0;1;1</td>\n",
       "    </tr>\n",
       "    <tr>\n",
       "      <th>2</th>\n",
       "      <td>2;18857;1;165;64.0;130;70;3;1;0;0;0;1</td>\n",
       "    </tr>\n",
       "    <tr>\n",
       "      <th>3</th>\n",
       "      <td>3;17623;2;169;82.0;150;100;1;1;0;0;1;1</td>\n",
       "    </tr>\n",
       "    <tr>\n",
       "      <th>4</th>\n",
       "      <td>4;17474;1;156;56.0;100;60;1;1;0;0;0;0</td>\n",
       "    </tr>\n",
       "  </tbody>\n",
       "</table>\n",
       "</div>"
      ],
      "text/plain": [
       "  id;age;gender;height;weight;ap_hi;ap_lo;cholesterol;gluc;smoke;alco;active;cardio\n",
       "0              0;18393;2;168;62.0;110;80;1;1;0;0;1;0                               \n",
       "1              1;20228;1;156;85.0;140;90;3;1;0;0;1;1                               \n",
       "2              2;18857;1;165;64.0;130;70;3;1;0;0;0;1                               \n",
       "3             3;17623;2;169;82.0;150;100;1;1;0;0;1;1                               \n",
       "4              4;17474;1;156;56.0;100;60;1;1;0;0;0;0                               "
      ]
     },
     "execution_count": 11,
     "metadata": {},
     "output_type": "execute_result"
    }
   ],
   "source": [
    "data = pd.read_csv(\"../data/cardio_train.csv\")\n",
    "data.head()"
   ]
  },
  {
   "cell_type": "code",
   "execution_count": 12,
   "metadata": {},
   "outputs": [
    {
     "data": {
      "text/plain": [
       "(70000, 1)"
      ]
     },
     "execution_count": 12,
     "metadata": {},
     "output_type": "execute_result"
    }
   ],
   "source": [
    "data.shape"
   ]
  },
  {
   "cell_type": "markdown",
   "metadata": {},
   "source": [
    "### Data inspection\n",
    "Plotting histograms for the distribution of the different features is a good way to visualize the data. "
   ]
  },
  {
   "cell_type": "code",
   "execution_count": 13,
   "metadata": {},
   "outputs": [
    {
     "data": {
      "text/html": [
       "<pre style=\"white-space:pre;overflow-x:auto;line-height:normal;font-family:Menlo,'DejaVu Sans Mono',consolas,'Courier New',monospace\"><span style=\"color: #7fbfbf; text-decoration-color: #7fbfbf\">[03/17/25 22:11:37] </span><span style=\"color: #0069ff; text-decoration-color: #0069ff; font-weight: bold\">INFO    </span> Using categorical units to plot a list of strings that are all         <a href=\"file:///opt/conda/lib/python3.11/site-packages/matplotlib/category.py\" target=\"_blank\"><span style=\"color: #7f7f7f; text-decoration-color: #7f7f7f\">category.py</span></a><span style=\"color: #7f7f7f; text-decoration-color: #7f7f7f\">:</span><a href=\"file:///opt/conda/lib/python3.11/site-packages/matplotlib/category.py#224\" target=\"_blank\"><span style=\"color: #7f7f7f; text-decoration-color: #7f7f7f\">224</span></a>\n",
       "<span style=\"color: #7fbfbf; text-decoration-color: #7fbfbf\">                    </span>         parsable as floats or dates. If these strings should be plotted as     <span style=\"color: #7f7f7f; text-decoration-color: #7f7f7f\">               </span>\n",
       "<span style=\"color: #7fbfbf; text-decoration-color: #7fbfbf\">                    </span>         numbers, cast to the appropriate data type before plotting.            <span style=\"color: #7f7f7f; text-decoration-color: #7f7f7f\">               </span>\n",
       "</pre>\n"
      ],
      "text/plain": [
       "\u001b[2;36m[03/17/25 22:11:37]\u001b[0m\u001b[2;36m \u001b[0m\u001b[1;38;2;0;105;255mINFO    \u001b[0m Using categorical units to plot a list of strings that are all         \u001b]8;id=458658;file:///opt/conda/lib/python3.11/site-packages/matplotlib/category.py\u001b\\\u001b[2mcategory.py\u001b[0m\u001b]8;;\u001b\\\u001b[2m:\u001b[0m\u001b]8;id=995996;file:///opt/conda/lib/python3.11/site-packages/matplotlib/category.py#224\u001b\\\u001b[2m224\u001b[0m\u001b]8;;\u001b\\\n",
       "\u001b[2;36m                    \u001b[0m         parsable as floats or dates. If these strings should be plotted as     \u001b[2m               \u001b[0m\n",
       "\u001b[2;36m                    \u001b[0m         numbers, cast to the appropriate data type before plotting.            \u001b[2m               \u001b[0m\n"
      ]
     },
     "metadata": {},
     "output_type": "display_data"
    },
    {
     "data": {
      "text/html": [
       "<pre style=\"white-space:pre;overflow-x:auto;line-height:normal;font-family:Menlo,'DejaVu Sans Mono',consolas,'Courier New',monospace\"><span style=\"color: #7fbfbf; text-decoration-color: #7fbfbf\">                    </span><span style=\"color: #0069ff; text-decoration-color: #0069ff; font-weight: bold\">INFO    </span> Using categorical units to plot a list of strings that are all         <a href=\"file:///opt/conda/lib/python3.11/site-packages/matplotlib/category.py\" target=\"_blank\"><span style=\"color: #7f7f7f; text-decoration-color: #7f7f7f\">category.py</span></a><span style=\"color: #7f7f7f; text-decoration-color: #7f7f7f\">:</span><a href=\"file:///opt/conda/lib/python3.11/site-packages/matplotlib/category.py#224\" target=\"_blank\"><span style=\"color: #7f7f7f; text-decoration-color: #7f7f7f\">224</span></a>\n",
       "<span style=\"color: #7fbfbf; text-decoration-color: #7fbfbf\">                    </span>         parsable as floats or dates. If these strings should be plotted as     <span style=\"color: #7f7f7f; text-decoration-color: #7f7f7f\">               </span>\n",
       "<span style=\"color: #7fbfbf; text-decoration-color: #7fbfbf\">                    </span>         numbers, cast to the appropriate data type before plotting.            <span style=\"color: #7f7f7f; text-decoration-color: #7f7f7f\">               </span>\n",
       "</pre>\n"
      ],
      "text/plain": [
       "\u001b[2;36m                   \u001b[0m\u001b[2;36m \u001b[0m\u001b[1;38;2;0;105;255mINFO    \u001b[0m Using categorical units to plot a list of strings that are all         \u001b]8;id=63459;file:///opt/conda/lib/python3.11/site-packages/matplotlib/category.py\u001b\\\u001b[2mcategory.py\u001b[0m\u001b]8;;\u001b\\\u001b[2m:\u001b[0m\u001b]8;id=731531;file:///opt/conda/lib/python3.11/site-packages/matplotlib/category.py#224\u001b\\\u001b[2m224\u001b[0m\u001b]8;;\u001b\\\n",
       "\u001b[2;36m                    \u001b[0m         parsable as floats or dates. If these strings should be plotted as     \u001b[2m               \u001b[0m\n",
       "\u001b[2;36m                    \u001b[0m         numbers, cast to the appropriate data type before plotting.            \u001b[2m               \u001b[0m\n"
      ]
     },
     "metadata": {},
     "output_type": "display_data"
    },
    {
     "data": {
      "image/png": "[encoded data removed]",
      "text/plain": [
       "<Figure size 600x400 with 1 Axes>"
      ]
     },
     "metadata": {},
     "output_type": "display_data"
    },
    {
     "data": {
      "image/png": "[encoded data removed]",
      "text/plain": [
       "<Figure size 800x500 with 1 Axes>"
      ]
     },
     "metadata": {},
     "output_type": "display_data"
    },
    {
     "data": {
      "text/html": [
       "<pre style=\"white-space:pre;overflow-x:auto;line-height:normal;font-family:Menlo,'DejaVu Sans Mono',consolas,'Courier New',monospace\"><span style=\"color: #7fbfbf; text-decoration-color: #7fbfbf\">[03/17/25 22:11:38] </span><span style=\"color: #0069ff; text-decoration-color: #0069ff; font-weight: bold\">INFO    </span> Using categorical units to plot a list of strings that are all         <a href=\"file:///opt/conda/lib/python3.11/site-packages/matplotlib/category.py\" target=\"_blank\"><span style=\"color: #7f7f7f; text-decoration-color: #7f7f7f\">category.py</span></a><span style=\"color: #7f7f7f; text-decoration-color: #7f7f7f\">:</span><a href=\"file:///opt/conda/lib/python3.11/site-packages/matplotlib/category.py#224\" target=\"_blank\"><span style=\"color: #7f7f7f; text-decoration-color: #7f7f7f\">224</span></a>\n",
       "<span style=\"color: #7fbfbf; text-decoration-color: #7fbfbf\">                    </span>         parsable as floats or dates. If these strings should be plotted as     <span style=\"color: #7f7f7f; text-decoration-color: #7f7f7f\">               </span>\n",
       "<span style=\"color: #7fbfbf; text-decoration-color: #7fbfbf\">                    </span>         numbers, cast to the appropriate data type before plotting.            <span style=\"color: #7f7f7f; text-decoration-color: #7f7f7f\">               </span>\n",
       "</pre>\n"
      ],
      "text/plain": [
       "\u001b[2;36m[03/17/25 22:11:38]\u001b[0m\u001b[2;36m \u001b[0m\u001b[1;38;2;0;105;255mINFO    \u001b[0m Using categorical units to plot a list of strings that are all         \u001b]8;id=296257;file:///opt/conda/lib/python3.11/site-packages/matplotlib/category.py\u001b\\\u001b[2mcategory.py\u001b[0m\u001b]8;;\u001b\\\u001b[2m:\u001b[0m\u001b]8;id=307389;file:///opt/conda/lib/python3.11/site-packages/matplotlib/category.py#224\u001b\\\u001b[2m224\u001b[0m\u001b]8;;\u001b\\\n",
       "\u001b[2;36m                    \u001b[0m         parsable as floats or dates. If these strings should be plotted as     \u001b[2m               \u001b[0m\n",
       "\u001b[2;36m                    \u001b[0m         numbers, cast to the appropriate data type before plotting.            \u001b[2m               \u001b[0m\n"
      ]
     },
     "metadata": {},
     "output_type": "display_data"
    },
    {
     "data": {
      "text/html": [
       "<pre style=\"white-space:pre;overflow-x:auto;line-height:normal;font-family:Menlo,'DejaVu Sans Mono',consolas,'Courier New',monospace\"><span style=\"color: #7fbfbf; text-decoration-color: #7fbfbf\">                    </span><span style=\"color: #0069ff; text-decoration-color: #0069ff; font-weight: bold\">INFO    </span> Using categorical units to plot a list of strings that are all         <a href=\"file:///opt/conda/lib/python3.11/site-packages/matplotlib/category.py\" target=\"_blank\"><span style=\"color: #7f7f7f; text-decoration-color: #7f7f7f\">category.py</span></a><span style=\"color: #7f7f7f; text-decoration-color: #7f7f7f\">:</span><a href=\"file:///opt/conda/lib/python3.11/site-packages/matplotlib/category.py#224\" target=\"_blank\"><span style=\"color: #7f7f7f; text-decoration-color: #7f7f7f\">224</span></a>\n",
       "<span style=\"color: #7fbfbf; text-decoration-color: #7fbfbf\">                    </span>         parsable as floats or dates. If these strings should be plotted as     <span style=\"color: #7f7f7f; text-decoration-color: #7f7f7f\">               </span>\n",
       "<span style=\"color: #7fbfbf; text-decoration-color: #7fbfbf\">                    </span>         numbers, cast to the appropriate data type before plotting.            <span style=\"color: #7f7f7f; text-decoration-color: #7f7f7f\">               </span>\n",
       "</pre>\n"
      ],
      "text/plain": [
       "\u001b[2;36m                   \u001b[0m\u001b[2;36m \u001b[0m\u001b[1;38;2;0;105;255mINFO    \u001b[0m Using categorical units to plot a list of strings that are all         \u001b]8;id=671019;file:///opt/conda/lib/python3.11/site-packages/matplotlib/category.py\u001b\\\u001b[2mcategory.py\u001b[0m\u001b]8;;\u001b\\\u001b[2m:\u001b[0m\u001b]8;id=8970;file:///opt/conda/lib/python3.11/site-packages/matplotlib/category.py#224\u001b\\\u001b[2m224\u001b[0m\u001b]8;;\u001b\\\n",
       "\u001b[2;36m                    \u001b[0m         parsable as floats or dates. If these strings should be plotted as     \u001b[2m               \u001b[0m\n",
       "\u001b[2;36m                    \u001b[0m         numbers, cast to the appropriate data type before plotting.            \u001b[2m               \u001b[0m\n"
      ]
     },
     "metadata": {},
     "output_type": "display_data"
    },
    {
     "data": {
      "image/png": "[encoded data removed]",
      "text/plain": [
       "<Figure size 600x400 with 1 Axes>"
      ]
     },
     "metadata": {},
     "output_type": "display_data"
    }
   ],
   "source": [
    "import matplotlib.pyplot as plt\n",
    "import seaborn as sns\n",
    "\n",
    "# -----------------------------\n",
    "# 1. Analyze Bias in Gender Representation\n",
    "# -----------------------------\n",
    "plt.figure(figsize=(6, 4))\n",
    "sns.countplot(x=\"gender\", data=cardio_df)\n",
    "plt.title(\"Gender Distribution in Cardio Dataset\")\n",
    "plt.xlabel(\"Gender (1=Male, 2=Female)\")\n",
    "plt.ylabel(\"Count\")\n",
    "plt.show()\n",
    "\n",
    "# -----------------------------\n",
    "# 2. Check Age Distribution\n",
    "# -----------------------------\n",
    "plt.figure(figsize=(8, 5))\n",
    "sns.histplot(cardio_df[\"age\"], bins=30, kde=True)\n",
    "plt.title(\"Age Distribution in Cardio Dataset\")\n",
    "plt.xlabel(\"Age in Days\")\n",
    "plt.ylabel(\"Frequency\")\n",
    "plt.show()\n",
    "\n",
    "# -----------------------------\n",
    "# 3. Bias in Cholesterol Levels\n",
    "# -----------------------------\n",
    "plt.figure(figsize=(6, 4))\n",
    "sns.countplot(x=\"cholesterol\", data=cardio_df)\n",
    "plt.title(\"Cholesterol Levels Distribution\")\n",
    "plt.xlabel(\"Cholesterol Level (1=Normal, 2=Above Normal, 3=Well Above Normal)\")\n",
    "plt.ylabel(\"Count\")\n",
    "plt.show()\n"
   ]
  },
  {
   "cell_type": "markdown",
   "metadata": {},
   "source": [
    "# Detecting Bias with Amazon SageMaker Clarify\n",
    "\n",
    "SageMaker Clarify helps you detect possible pre- and post-training biases using a variety of metrics."
   ]
  },
  {
   "cell_type": "code",
   "execution_count": 15,
   "metadata": {},
   "outputs": [
    {
     "data": {
      "text/html": [
       "<pre style=\"white-space:pre;overflow-x:auto;line-height:normal;font-family:Menlo,'DejaVu Sans Mono',consolas,'Courier New',monospace\"><span style=\"color: #7fbfbf; text-decoration-color: #7fbfbf\">[03/17/25 22:17:42] </span><span style=\"color: #0069ff; text-decoration-color: #0069ff; font-weight: bold\">INFO    </span> Ignoring unnecessary instance type: <span style=\"color: #e100e1; text-decoration-color: #e100e1; font-style: italic\">None</span>.                            <a href=\"file:///opt/conda/lib/python3.11/site-packages/sagemaker/image_uris.py\" target=\"_blank\"><span style=\"color: #7f7f7f; text-decoration-color: #7f7f7f\">image_uris.py</span></a><span style=\"color: #7f7f7f; text-decoration-color: #7f7f7f\">:</span><a href=\"file:///opt/conda/lib/python3.11/site-packages/sagemaker/image_uris.py#530\" target=\"_blank\"><span style=\"color: #7f7f7f; text-decoration-color: #7f7f7f\">530</span></a>\n",
       "</pre>\n"
      ],
      "text/plain": [
       "\u001b[2;36m[03/17/25 22:17:42]\u001b[0m\u001b[2;36m \u001b[0m\u001b[1;38;2;0;105;255mINFO    \u001b[0m Ignoring unnecessary instance type: \u001b[3;38;2;225;0;225mNone\u001b[0m.                            \u001b]8;id=769902;file:///opt/conda/lib/python3.11/site-packages/sagemaker/image_uris.py\u001b\\\u001b[2mimage_uris.py\u001b[0m\u001b]8;;\u001b\\\u001b[2m:\u001b[0m\u001b]8;id=203261;file:///opt/conda/lib/python3.11/site-packages/sagemaker/image_uris.py#530\u001b\\\u001b[2m530\u001b[0m\u001b]8;;\u001b\\\n"
      ]
     },
     "metadata": {},
     "output_type": "display_data"
    },
    {
     "name": "stdout",
     "output_type": "stream",
     "text": [
      "SageMaker Clarify Processor Configured Successfully!\n"
     ]
    }
   ],
   "source": [
    "from sagemaker import clarify\n",
    "\n",
    "# Explicitly define the instance type to avoid the warning\n",
    "clarify_processor = clarify.SageMakerClarifyProcessor(\n",
    "    role=role, \n",
    "    instance_count=1, \n",
    "    instance_type=\"ml.m5.xlarge\",  # Explicitly setting the instance type\n",
    "    sagemaker_session=sess\n",
    ")\n",
    "\n",
    "print(\"SageMaker Clarify Processor Configured Successfully!\")\n"
   ]
  },
  {
   "cell_type": "markdown",
   "metadata": {},
   "source": [
    "# Pre-training Bias\n",
    "Bias can be present in your data before any model training occurs. Inspecting your data for bias before training begins can help detect any data collection gaps, inform your feature engineering, and hep you understand what societal biases the data may reflect.\n",
    "\n",
    "Computing pre-training bias metrics does not require a trained model."
   ]
  },
  {
   "cell_type": "markdown",
   "metadata": {},
   "source": [
    "## Writing DataConfig\n",
    "A `DataConfig` object communicates some basic information about data I/O to Clarify. We specify where to find the input dataset, where to store the output, the target column (`label`), the header names, and the dataset type."
   ]
  },
  {
   "cell_type": "code",
   "execution_count": 22,
   "metadata": {},
   "outputs": [],
   "source": [
    "# Convert semicolon (;) to comma (,) before saving\n",
    "cardio_df.to_csv(f\"{local_data_dir}/cardio_train_fixed.csv\", index=False, sep=\",\")  \n",
    "cardio_s3_uri = \"s3://cardiovale-solutions-datascience-pipeline/raw-data/cardio_train_fixed.csv\"\n"
   ]
  },
  {
   "cell_type": "code",
   "execution_count": 28,
   "metadata": {},
   "outputs": [
    {
     "name": "stdout",
     "output_type": "stream",
     "text": [
      "upload: ../data/cardio_train_fixed.csv to s3://cardiovale-solutions-datascience-pipeline/raw-data/cardio_train_fixed.csv\n"
     ]
    }
   ],
   "source": [
    "!aws s3 cp /home/sagemaker-user/ads-508-team/data/cardio_train_fixed.csv s3://cardiovale-solutions-datascience-pipeline/raw-data/\n"
   ]
  },
  {
   "cell_type": "code",
   "execution_count": 29,
   "metadata": {},
   "outputs": [
    {
     "name": "stdout",
     "output_type": "stream",
     "text": [
      "                           PRE .ipynb_checkpoints/\n",
      "                           PRE Unsaved/\n",
      "2025-03-07 06:39:44    6934258 Quitline___Services_Available___Medications_-_2010_To_Present_20250306.csv\n",
      "2025-03-07 06:39:44    2941524 cardio_train.csv\n",
      "2025-03-17 22:43:19    2941524 cardio_train_fixed.csv\n"
     ]
    }
   ],
   "source": [
    "!aws s3 ls s3://cardiovale-solutions-datascience-pipeline/raw-data/\n"
   ]
  },
  {
   "cell_type": "code",
   "execution_count": 23,
   "metadata": {},
   "outputs": [
    {
     "name": "stdout",
     "output_type": "stream",
     "text": [
      "Bias Data Config Updated Successfully!\n"
     ]
    }
   ],
   "source": [
    "# Define Bias Report Output Path\n",
    "bias_report_output_path = \"s3://{}/clarify\".format(bucket)\n",
    "\n",
    "# Define Bias Data Config\n",
    "bias_data_config = clarify.DataConfig(\n",
    "    s3_data_input_path=cardio_s3_uri,  # FIX: Use cardio_s3_uri instead of undefined variable\n",
    "    s3_output_path=bias_report_output_path,\n",
    "    label=\"cardio\",  # Ensure this matches the column name in your dataset\n",
    "    headers=[\"id\", \"age\", \"gender\", \"height\", \"weight\", \"ap_hi\", \"ap_lo\", \n",
    "             \"cholesterol\", \"gluc\", \"smoke\", \"alco\", \"active\", \"cardio\"], \n",
    "    dataset_type=\"text/csv\"\n",
    ")\n",
    "\n",
    "print(\"Bias Data Config Updated Successfully!\")\n",
    "\n"
   ]
  },
  {
   "cell_type": "markdown",
   "metadata": {},
   "source": [
    "## Writing BiasConfig\n",
    "SageMaker Clarify also needs information on what the sensitive columns (`facets`) are, what the sensitive features (`facet_values_or_threshold`) may be, and what the desirable outcomes are (`label_values_or_threshold`).\n",
    "Clarify can handle both categorical and continuous data for `facet_values_or_threshold` and for `label_values_or_threshold`. In this case we are using categorical data.\n",
    "\n",
    "We specify this information in the `BiasConfig` API. Here that the positive outcome is `star rating==5`, `product_category` is the sensitive column, and `Gift Card` is the sensitive value."
   ]
  },
  {
   "cell_type": "code",
   "execution_count": 24,
   "metadata": {},
   "outputs": [
    {
     "name": "stdout",
     "output_type": "stream",
     "text": [
      "Bias Config Updated Successfully!\n"
     ]
    }
   ],
   "source": [
    "from sagemaker import clarify\n",
    "\n",
    "# Define BiasConfig for Cardio Dataset\n",
    "bias_config = clarify.BiasConfig(\n",
    "    label_values_or_threshold=[1],  # Assuming \"1\" means having cardiovascular disease\n",
    "    facet_name=\"gender\",  # Sensitive column (e.g., gender is often used in bias analysis)\n",
    "    facet_values_or_threshold=[1],  # Assuming \"1\" represents Male\n",
    ")\n",
    "\n",
    "print(\"Bias Config Updated Successfully!\")\n"
   ]
  },
  {
   "cell_type": "markdown",
   "metadata": {},
   "source": [
    "## Detect Bias with a SageMaker Processing Job and Clarify"
   ]
  },
  {
   "cell_type": "code",
   "execution_count": 30,
   "metadata": {},
   "outputs": [
    {
     "data": {
      "text/html": [
       "<pre style=\"white-space:pre;overflow-x:auto;line-height:normal;font-family:Menlo,'DejaVu Sans Mono',consolas,'Courier New',monospace\"><span style=\"color: #7fbfbf; text-decoration-color: #7fbfbf\">[03/17/25 22:43:26] </span><span style=\"color: #0069ff; text-decoration-color: #0069ff; font-weight: bold\">INFO    </span> Analysis Config: <span style=\"font-weight: bold\">{</span><span style=\"color: #008700; text-decoration-color: #008700\">'dataset_type'</span>: <span style=\"color: #008700; text-decoration-color: #008700\">'text/csv'</span>, <span style=\"color: #008700; text-decoration-color: #008700\">'headers'</span>: <span style=\"font-weight: bold\">[</span><span style=\"color: #008700; text-decoration-color: #008700\">'id'</span>, <span style=\"color: #008700; text-decoration-color: #008700\">'age'</span>, <a href=\"file:///opt/conda/lib/python3.11/site-packages/sagemaker/clarify.py\" target=\"_blank\"><span style=\"color: #7f7f7f; text-decoration-color: #7f7f7f\">clarify.py</span></a><span style=\"color: #7f7f7f; text-decoration-color: #7f7f7f\">:</span><a href=\"file:///opt/conda/lib/python3.11/site-packages/sagemaker/clarify.py#1987\" target=\"_blank\"><span style=\"color: #7f7f7f; text-decoration-color: #7f7f7f\">1987</span></a>\n",
       "<span style=\"color: #7fbfbf; text-decoration-color: #7fbfbf\">                    </span>         <span style=\"color: #008700; text-decoration-color: #008700\">'gender'</span>, <span style=\"color: #008700; text-decoration-color: #008700\">'height'</span>, <span style=\"color: #008700; text-decoration-color: #008700\">'weight'</span>, <span style=\"color: #008700; text-decoration-color: #008700\">'ap_hi'</span>, <span style=\"color: #008700; text-decoration-color: #008700\">'ap_lo'</span>, <span style=\"color: #008700; text-decoration-color: #008700\">'cholesterol'</span>, <span style=\"color: #008700; text-decoration-color: #008700\">'gluc'</span>, <span style=\"color: #7f7f7f; text-decoration-color: #7f7f7f\">               </span>\n",
       "<span style=\"color: #7fbfbf; text-decoration-color: #7fbfbf\">                    </span>         <span style=\"color: #008700; text-decoration-color: #008700\">'smoke'</span>, <span style=\"color: #008700; text-decoration-color: #008700\">'alco'</span>, <span style=\"color: #008700; text-decoration-color: #008700\">'active'</span>, <span style=\"color: #008700; text-decoration-color: #008700\">'cardio'</span><span style=\"font-weight: bold\">]</span>, <span style=\"color: #008700; text-decoration-color: #008700\">'label'</span>: <span style=\"color: #008700; text-decoration-color: #008700\">'cardio'</span>,               <span style=\"color: #7f7f7f; text-decoration-color: #7f7f7f\">               </span>\n",
       "<span style=\"color: #7fbfbf; text-decoration-color: #7fbfbf\">                    </span>         <span style=\"color: #008700; text-decoration-color: #008700\">'label_values_or_threshold'</span>: <span style=\"font-weight: bold\">[</span><span style=\"color: #008080; text-decoration-color: #008080; font-weight: bold\">1</span><span style=\"font-weight: bold\">]</span>, <span style=\"color: #008700; text-decoration-color: #008700\">'facet'</span>: <span style=\"font-weight: bold\">[{</span><span style=\"color: #008700; text-decoration-color: #008700\">'name_or_index'</span>:          <span style=\"color: #7f7f7f; text-decoration-color: #7f7f7f\">               </span>\n",
       "<span style=\"color: #7fbfbf; text-decoration-color: #7fbfbf\">                    </span>         <span style=\"color: #008700; text-decoration-color: #008700\">'gender'</span>, <span style=\"color: #008700; text-decoration-color: #008700\">'value_or_threshold'</span>: <span style=\"font-weight: bold\">[</span><span style=\"color: #008080; text-decoration-color: #008080; font-weight: bold\">1</span><span style=\"font-weight: bold\">]}]</span>, <span style=\"color: #008700; text-decoration-color: #008700\">'methods'</span>: <span style=\"font-weight: bold\">{</span><span style=\"color: #008700; text-decoration-color: #008700\">'report'</span>: <span style=\"font-weight: bold\">{</span><span style=\"color: #008700; text-decoration-color: #008700\">'name'</span>:  <span style=\"color: #7f7f7f; text-decoration-color: #7f7f7f\">               </span>\n",
       "<span style=\"color: #7fbfbf; text-decoration-color: #7fbfbf\">                    </span>         <span style=\"color: #008700; text-decoration-color: #008700\">'report'</span>, <span style=\"color: #008700; text-decoration-color: #008700\">'title'</span>: <span style=\"color: #008700; text-decoration-color: #008700\">'Analysis Report'</span><span style=\"font-weight: bold\">}</span>, <span style=\"color: #008700; text-decoration-color: #008700\">'pre_training_bias'</span>:            <span style=\"color: #7f7f7f; text-decoration-color: #7f7f7f\">               </span>\n",
       "<span style=\"color: #7fbfbf; text-decoration-color: #7fbfbf\">                    </span>         <span style=\"font-weight: bold\">{</span><span style=\"color: #008700; text-decoration-color: #008700\">'methods'</span>: <span style=\"font-weight: bold\">[</span><span style=\"color: #008700; text-decoration-color: #008700\">'CI'</span>, <span style=\"color: #008700; text-decoration-color: #008700\">'DPL'</span>, <span style=\"color: #008700; text-decoration-color: #008700\">'KL'</span>, <span style=\"color: #008700; text-decoration-color: #008700\">'JS'</span>, <span style=\"color: #008700; text-decoration-color: #008700\">'LP'</span>, <span style=\"color: #008700; text-decoration-color: #008700\">'TVD'</span>, <span style=\"color: #008700; text-decoration-color: #008700\">'KS'</span><span style=\"font-weight: bold\">]}}}</span>            <span style=\"color: #7f7f7f; text-decoration-color: #7f7f7f\">               </span>\n",
       "</pre>\n"
      ],
      "text/plain": [
       "\u001b[2;36m[03/17/25 22:43:26]\u001b[0m\u001b[2;36m \u001b[0m\u001b[1;38;2;0;105;255mINFO    \u001b[0m Analysis Config: \u001b[1m{\u001b[0m\u001b[38;2;0;135;0m'dataset_type'\u001b[0m: \u001b[38;2;0;135;0m'text/csv'\u001b[0m, \u001b[38;2;0;135;0m'headers'\u001b[0m: \u001b[1m[\u001b[0m\u001b[38;2;0;135;0m'id'\u001b[0m, \u001b[38;2;0;135;0m'age'\u001b[0m, \u001b]8;id=85886;file:///opt/conda/lib/python3.11/site-packages/sagemaker/clarify.py\u001b\\\u001b[2mclarify.py\u001b[0m\u001b]8;;\u001b\\\u001b[2m:\u001b[0m\u001b]8;id=958297;file:///opt/conda/lib/python3.11/site-packages/sagemaker/clarify.py#1987\u001b\\\u001b[2m1987\u001b[0m\u001b]8;;\u001b\\\n",
       "\u001b[2;36m                    \u001b[0m         \u001b[38;2;0;135;0m'gender'\u001b[0m, \u001b[38;2;0;135;0m'height'\u001b[0m, \u001b[38;2;0;135;0m'weight'\u001b[0m, \u001b[38;2;0;135;0m'ap_hi'\u001b[0m, \u001b[38;2;0;135;0m'ap_lo'\u001b[0m, \u001b[38;2;0;135;0m'cholesterol'\u001b[0m, \u001b[38;2;0;135;0m'gluc'\u001b[0m, \u001b[2m               \u001b[0m\n",
       "\u001b[2;36m                    \u001b[0m         \u001b[38;2;0;135;0m'smoke'\u001b[0m, \u001b[38;2;0;135;0m'alco'\u001b[0m, \u001b[38;2;0;135;0m'active'\u001b[0m, \u001b[38;2;0;135;0m'cardio'\u001b[0m\u001b[1m]\u001b[0m, \u001b[38;2;0;135;0m'label'\u001b[0m: \u001b[38;2;0;135;0m'cardio'\u001b[0m,               \u001b[2m               \u001b[0m\n",
       "\u001b[2;36m                    \u001b[0m         \u001b[38;2;0;135;0m'label_values_or_threshold'\u001b[0m: \u001b[1m[\u001b[0m\u001b[1;36m1\u001b[0m\u001b[1m]\u001b[0m, \u001b[38;2;0;135;0m'facet'\u001b[0m: \u001b[1m[\u001b[0m\u001b[1m{\u001b[0m\u001b[38;2;0;135;0m'name_or_index'\u001b[0m:          \u001b[2m               \u001b[0m\n",
       "\u001b[2;36m                    \u001b[0m         \u001b[38;2;0;135;0m'gender'\u001b[0m, \u001b[38;2;0;135;0m'value_or_threshold'\u001b[0m: \u001b[1m[\u001b[0m\u001b[1;36m1\u001b[0m\u001b[1m]\u001b[0m\u001b[1m}\u001b[0m\u001b[1m]\u001b[0m, \u001b[38;2;0;135;0m'methods'\u001b[0m: \u001b[1m{\u001b[0m\u001b[38;2;0;135;0m'report'\u001b[0m: \u001b[1m{\u001b[0m\u001b[38;2;0;135;0m'name'\u001b[0m:  \u001b[2m               \u001b[0m\n",
       "\u001b[2;36m                    \u001b[0m         \u001b[38;2;0;135;0m'report'\u001b[0m, \u001b[38;2;0;135;0m'title'\u001b[0m: \u001b[38;2;0;135;0m'Analysis Report'\u001b[0m\u001b[1m}\u001b[0m, \u001b[38;2;0;135;0m'pre_training_bias'\u001b[0m:            \u001b[2m               \u001b[0m\n",
       "\u001b[2;36m                    \u001b[0m         \u001b[1m{\u001b[0m\u001b[38;2;0;135;0m'methods'\u001b[0m: \u001b[1m[\u001b[0m\u001b[38;2;0;135;0m'CI'\u001b[0m, \u001b[38;2;0;135;0m'DPL'\u001b[0m, \u001b[38;2;0;135;0m'KL'\u001b[0m, \u001b[38;2;0;135;0m'JS'\u001b[0m, \u001b[38;2;0;135;0m'LP'\u001b[0m, \u001b[38;2;0;135;0m'TVD'\u001b[0m, \u001b[38;2;0;135;0m'KS'\u001b[0m\u001b[1m]\u001b[0m\u001b[1m}\u001b[0m\u001b[1m}\u001b[0m\u001b[1m}\u001b[0m            \u001b[2m               \u001b[0m\n"
      ]
     },
     "metadata": {},
     "output_type": "display_data"
    },
    {
     "data": {
      "text/html": [
       "<pre style=\"white-space:pre;overflow-x:auto;line-height:normal;font-family:Menlo,'DejaVu Sans Mono',consolas,'Courier New',monospace\"><span style=\"color: #7fbfbf; text-decoration-color: #7fbfbf\">                    </span><span style=\"color: #0069ff; text-decoration-color: #0069ff; font-weight: bold\">INFO    </span> Creating processing-job with name                                      <a href=\"file:///opt/conda/lib/python3.11/site-packages/sagemaker/session.py\" target=\"_blank\"><span style=\"color: #7f7f7f; text-decoration-color: #7f7f7f\">session.py</span></a><span style=\"color: #7f7f7f; text-decoration-color: #7f7f7f\">:</span><a href=\"file:///opt/conda/lib/python3.11/site-packages/sagemaker/session.py#1575\" target=\"_blank\"><span style=\"color: #7f7f7f; text-decoration-color: #7f7f7f\">1575</span></a>\n",
       "<span style=\"color: #7fbfbf; text-decoration-color: #7fbfbf\">                    </span>         Clarify-Pretraining-Bias-<span style=\"color: #008080; text-decoration-color: #008080; font-weight: bold\">2025</span>-03-17-22-43-26-379                       <span style=\"color: #7f7f7f; text-decoration-color: #7f7f7f\">               </span>\n",
       "</pre>\n"
      ],
      "text/plain": [
       "\u001b[2;36m                   \u001b[0m\u001b[2;36m \u001b[0m\u001b[1;38;2;0;105;255mINFO    \u001b[0m Creating processing-job with name                                      \u001b]8;id=696565;file:///opt/conda/lib/python3.11/site-packages/sagemaker/session.py\u001b\\\u001b[2msession.py\u001b[0m\u001b]8;;\u001b\\\u001b[2m:\u001b[0m\u001b]8;id=459751;file:///opt/conda/lib/python3.11/site-packages/sagemaker/session.py#1575\u001b\\\u001b[2m1575\u001b[0m\u001b]8;;\u001b\\\n",
       "\u001b[2;36m                    \u001b[0m         Clarify-Pretraining-Bias-\u001b[1;36m2025\u001b[0m-03-17-22-43-26-379                       \u001b[2m               \u001b[0m\n"
      ]
     },
     "metadata": {},
     "output_type": "display_data"
    },
    {
     "name": "stdout",
     "output_type": "stream",
     "text": [
      "..................\u001b[34msagemaker.config INFO - Not applying SDK defaults from location: /etc/xdg/sagemaker/config.yaml\u001b[0m\n",
      "\u001b[34msagemaker.config INFO - Not applying SDK defaults from location: /root/.config/sagemaker/config.yaml\u001b[0m\n",
      "\u001b[34mWe are not in a supported iso region, /bin/sh exiting gracefully with no changes.\u001b[0m\n",
      "\u001b[34mWARNING:root:logging.conf not found when configuring logging, using default logging configuration.\u001b[0m\n",
      "\u001b[34mINFO:sagemaker-clarify-processing:Starting SageMaker Clarify Processing job\u001b[0m\n",
      "\u001b[34mINFO:analyzer.data_loading.data_loader_util:Analysis config path: /opt/ml/processing/input/config/analysis_config.json\u001b[0m\n",
      "\u001b[34mINFO:analyzer.data_loading.data_loader_util:Analysis result path: /opt/ml/processing/output\u001b[0m\n",
      "\u001b[34mINFO:analyzer.data_loading.data_loader_util:This host is algo-1.\u001b[0m\n",
      "\u001b[34mINFO:analyzer.data_loading.data_loader_util:This host is the leader.\u001b[0m\n",
      "\u001b[34mINFO:analyzer.data_loading.data_loader_util:Number of hosts in the cluster is 1.\u001b[0m\n",
      "\u001b[34mINFO:sagemaker-clarify-processing:Running Python / Pandas based analyzer.\u001b[0m\n",
      "\u001b[34mINFO:analyzer.data_loading.data_loader_factory:Dataset type: text/csv uri: /opt/ml/processing/input/data\u001b[0m\n",
      "\u001b[34mINFO:sagemaker-clarify-processing:Loading dataset...\u001b[0m\n",
      "\u001b[34mINFO:sagemaker-clarify-processing:Loaded dataset. Dataset info:\u001b[0m\n",
      "\u001b[34m<class 'pandas.core.frame.DataFrame'>\u001b[0m\n",
      "\u001b[34mRangeIndex: 70000 entries, 0 to 69999\u001b[0m\n",
      "\u001b[34mData columns (total 12 columns):\n",
      " #   Column       Non-Null Count  Dtype  \u001b[0m\n",
      "\u001b[34m---  ------       --------------  -----  \n",
      " 0   id           70000 non-null  int64  \n",
      " 1   age          70000 non-null  int64  \n",
      " 2   gender       70000 non-null  int64  \n",
      " 3   height       70000 non-null  int64  \n",
      " 4   weight       70000 non-null  float64\n",
      " 5   ap_hi        70000 non-null  int64  \n",
      " 6   ap_lo        70000 non-null  int64  \n",
      " 7   cholesterol  70000 non-null  int64  \n",
      " 8   gluc         70000 non-null  int64  \n",
      " 9   smoke        70000 non-null  int64  \n",
      " 10  alco         70000 non-null  int64  \n",
      " 11  active       70000 non-null  int64  \u001b[0m\n",
      "\u001b[34mdtypes: float64(1), int64(11)\u001b[0m\n",
      "\u001b[34mmemory usage: 6.4 MB\u001b[0m\n",
      "\u001b[34mINFO:sagemaker-clarify-processing:Calculated global analysis with predictor\u001b[0m\n",
      "\u001b[34mINFO:sagemaker-clarify-processing:=====================================\u001b[0m\n",
      "\u001b[34mINFO:sagemaker-clarify-processing:Calculating pre-training bias metrics\u001b[0m\n",
      "\u001b[34mINFO:sagemaker-clarify-processing:=====================================\u001b[0m\n",
      "\u001b[34mINFO:smclarify.bias.metrics.common:Column cardio with data uniqueness fraction 2.857142857142857e-05 is classifed as a CATEGORICAL column\u001b[0m\n",
      "\u001b[34mINFO:smclarify.bias.metrics.common:Column gender with data uniqueness fraction 2.857142857142857e-05 is classifed as a CATEGORICAL column\u001b[0m\n",
      "\u001b[34mINFO:smclarify.bias.metrics.common:Column cardio with data uniqueness fraction 2.857142857142857e-05 is classifed as a CATEGORICAL column\u001b[0m\n",
      "\u001b[34mINFO:sagemaker-clarify-processing:======================================\u001b[0m\n",
      "\u001b[34mINFO:sagemaker-clarify-processing:Calculating bias statistics for report\u001b[0m\n",
      "\u001b[34mINFO:sagemaker-clarify-processing:======================================\u001b[0m\n",
      "\u001b[34mINFO:smclarify.bias.metrics.common:Column cardio with data uniqueness fraction 2.857142857142857e-05 is classifed as a CATEGORICAL column\u001b[0m\n",
      "\u001b[34mINFO:smclarify.bias.metrics.common:Column gender with data uniqueness fraction 2.857142857142857e-05 is classifed as a CATEGORICAL column\u001b[0m\n",
      "\u001b[34mINFO:smclarify.bias.metrics.common:Column cardio with data uniqueness fraction 2.857142857142857e-05 is classifed as a CATEGORICAL column\u001b[0m\n",
      "\u001b[34mINFO:smclarify.bias.metrics.common:Column cardio with data uniqueness fraction 2.857142857142857e-05 is classifed as a CATEGORICAL column\u001b[0m\n",
      "\u001b[34mERROR:analyzer.bias.bias_stats_analyzer:Model performance computations failed.\u001b[0m\n",
      "\u001b[34mTraceback (most recent call last):\n",
      "  File \"/usr/local/lib/python3.9/site-packages/analyzer/bias/bias_stats_analyzer.py\", line 118, in generate_model_performance_report\n",
      "    metrics_result: Dict[str, Any] = bias.model_performance_report(\n",
      "  File \"/usr/local/lib/python3.9/site-packages/smclarify/bias/report.py\", line 441, in model_performance_report\n",
      "    predicted_label_column.series, positive_label_values\u001b[0m\n",
      "\u001b[34mAttributeError: 'NoneType' object has no attribute 'series'\u001b[0m\n",
      "\u001b[34mINFO:analyzer.utils.spark_util:Converting Pandas DataFrame to SparkDataFrame for computing report metadata\u001b[0m\n",
      "\u001b[34mSetting default log level to \"WARN\".\u001b[0m\n",
      "\u001b[34mTo adjust logging level use sc.setLogLevel(newLevel). For SparkR, use setLogLevel(newLevel).\u001b[0m\n",
      "\u001b[34m25/03/17 22:46:35 WARN NativeCodeLoader: Unable to load native-hadoop library for your platform... using builtin-java classes where applicable\u001b[0m\n",
      "\u001b[34m#015[Stage 0:>                                                          (0 + 4) / 4]#015#015                                                                                #015#015[Stage 3:>                                                          (0 + 4) / 4]#015#015                                                                                #015INFO:analyzer.utils.spark_util:Report Metadata: Could not find predicted_label in Dataframe\u001b[0m\n",
      "\u001b[34mINFO:sagemaker-clarify-processing:Calculated global analysis without predictor\u001b[0m\n",
      "\u001b[34mINFO:sagemaker-clarify-processing:Collected analyses: \u001b[0m\n",
      "\u001b[34m{'version': '1.0', 'pre_training_bias_metrics': {'label': 'cardio', 'facets': {'gender': [{'value_or_threshold': '1', 'metrics': [{'name': 'CI', 'description': 'Class Imbalance (CI)', 'value': -0.3008571428571429}, {'name': 'DPL', 'description': 'Difference in Positive Proportions in Labels (DPL)', 'value': 0.008503462511324}, {'name': 'JS', 'description': 'Jensen-Shannon Divergence (JS)', 'value': 3.6155011732296946e-05}, {'name': 'KL', 'description': 'Kullback-Liebler Divergence (KL)', 'value': 0.00014462018427214597}, {'name': 'KS', 'description': 'Kolmogorov-Smirnov Distance (KS)', 'value': 0.008503462511324}, {'name': 'LP', 'description': 'L-p Norm (LP)', 'value': 0.012025712010645541}, {'name': 'TVD', 'description': 'Total Variation Distance (TVD)', 'value': 0.008503462511323973}]}]}, 'label_value_or_threshold': '1'}}\u001b[0m\n",
      "\u001b[34mINFO:analyzer.utils.util:['jupyter', 'nbconvert', '--to', 'html', '--output', '/opt/ml/processing/output/report.html', '/opt/ml/processing/output/report.ipynb', '--template', 'sagemaker-xai']\u001b[0m\n",
      "\u001b[34m[NbConvertApp] Converting notebook /opt/ml/processing/output/report.ipynb to html\u001b[0m\n",
      "\u001b[34m[NbConvertApp] Writing 515756 bytes to /opt/ml/processing/output/report.html\u001b[0m\n",
      "\u001b[34mINFO:analyzer.utils.util:['wkhtmltopdf', '-q', '--enable-local-file-access', '/opt/ml/processing/output/report.html', '/opt/ml/processing/output/report.pdf']\u001b[0m\n",
      "\u001b[34mINFO:analyzer.utils.system_util:exit_message: Completed: SageMaker XAI Analyzer ran successfully\u001b[0m\n",
      "\u001b[34mINFO:py4j.clientserver:Closing down clientserver connection\u001b[0m\n",
      "\n",
      "Bias Detection Job Submitted Successfully!\n"
     ]
    }
   ],
   "source": [
    "clarify_processor.run_pre_training_bias(\n",
    "    data_config=bias_data_config, \n",
    "    data_bias_config=bias_config, \n",
    "    methods=[\"CI\", \"DPL\", \"KL\", \"JS\", \"LP\", \"TVD\", \"KS\"],  # Statistical bias detection methods\n",
    "    wait=True,  # Set to True to monitor execution\n",
    "    logs=True   # Enable logs to track job status\n",
    ")\n",
    "\n",
    "print(\"Bias Detection Job Submitted Successfully!\")\n"
   ]
  },
  {
   "cell_type": "code",
   "execution_count": 31,
   "metadata": {},
   "outputs": [
    {
     "data": {
      "text/plain": [
       "'Clarify-Pretraining-Bias-2025-03-17-22-43-26-379'"
      ]
     },
     "execution_count": 31,
     "metadata": {},
     "output_type": "execute_result"
    }
   ],
   "source": [
    "run_pre_training_bias_processing_job_name = clarify_processor.latest_job.job_name\n",
    "run_pre_training_bias_processing_job_name"
   ]
  },
  {
   "cell_type": "code",
   "execution_count": 32,
   "metadata": {},
   "outputs": [
    {
     "name": "stderr",
     "output_type": "stream",
     "text": [
      "/tmp/ipykernel_1766/1650809260.py:1: DeprecationWarning: Importing display from IPython.core.display is deprecated since IPython 7.14, please import from IPython.display\n",
      "  from IPython.core.display import display, HTML\n"
     ]
    },
    {
     "data": {
      "text/html": [
       "<b>Review <a target=\"blank\" href=\"https://console.aws.amazon.com/sagemaker/home?region=us-east-1#/processing-jobs/Clarify-Pretraining-Bias-2025-03-17-22-43-26-379\">Processing Job</a></b>"
      ],
      "text/plain": [
       "<IPython.core.display.HTML object>"
      ]
     },
     "metadata": {},
     "output_type": "display_data"
    }
   ],
   "source": [
    "from IPython.core.display import display, HTML\n",
    "\n",
    "# Generate the SageMaker Processing Job link dynamically\n",
    "sagemaker_processing_job_url = f\"https://console.aws.amazon.com/sagemaker/home?region={region}#/processing-jobs/{run_pre_training_bias_processing_job_name}\"\n",
    "\n",
    "# Display an interactive link to the SageMaker Processing Job\n",
    "display(\n",
    "    HTML(\n",
    "        f'<b>Review <a target=\"blank\" href=\"{sagemaker_processing_job_url}\">Processing Job</a></b>'\n",
    "    )\n",
    ")\n"
   ]
  },
  {
   "cell_type": "code",
   "execution_count": 33,
   "metadata": {},
   "outputs": [
    {
     "name": "stderr",
     "output_type": "stream",
     "text": [
      "/tmp/ipykernel_1766/3205137871.py:1: DeprecationWarning: Importing display from IPython.core.display is deprecated since IPython 7.14, please import from IPython.display\n",
      "  from IPython.core.display import display, HTML\n"
     ]
    },
    {
     "data": {
      "text/html": [
       "<b>Review <a target=\"blank\" href=\"https://console.aws.amazon.com/cloudwatch/home?region=us-east-1#logStream:group=/aws/sagemaker/ProcessingJobs;prefix=Clarify-Pretraining-Bias-2025-03-17-22-43-26-379;streamFilter=typeLogStreamPrefix\">CloudWatch Logs</a> After About 5 Minutes</b>"
      ],
      "text/plain": [
       "<IPython.core.display.HTML object>"
      ]
     },
     "metadata": {},
     "output_type": "display_data"
    }
   ],
   "source": [
    "from IPython.core.display import display, HTML\n",
    "\n",
    "display(\n",
    "    HTML(\n",
    "        '<b>Review <a target=\"blank\" href=\"https://console.aws.amazon.com/cloudwatch/home?region={}#logStream:group=/aws/sagemaker/ProcessingJobs;prefix={};streamFilter=typeLogStreamPrefix\">CloudWatch Logs</a> After About 5 Minutes</b>'.format(\n",
    "            region, run_pre_training_bias_processing_job_name\n",
    "        )\n",
    "    )\n",
    ")"
   ]
  },
  {
   "cell_type": "code",
   "execution_count": 34,
   "metadata": {},
   "outputs": [
    {
     "name": "stderr",
     "output_type": "stream",
     "text": [
      "/tmp/ipykernel_1766/2240746175.py:1: DeprecationWarning: Importing display from IPython.core.display is deprecated since IPython 7.14, please import from IPython.display\n",
      "  from IPython.core.display import display, HTML\n"
     ]
    },
    {
     "data": {
      "text/html": [
       "<b>Review <a target=\"blank\" href=\"https://s3.console.aws.amazon.com/s3/buckets/cardiovale-solutions-datascience-pipeline/Clarify-Pretraining-Bias-2025-03-17-22-43-26-379/?region=us-east-1&tab=overview\">S3 Output Data</a> After The Processing Job Has Completed</b>"
      ],
      "text/plain": [
       "<IPython.core.display.HTML object>"
      ]
     },
     "metadata": {},
     "output_type": "display_data"
    }
   ],
   "source": [
    "from IPython.core.display import display, HTML\n",
    "\n",
    "display(\n",
    "    HTML(\n",
    "        '<b>Review <a target=\"blank\" href=\"https://s3.console.aws.amazon.com/s3/buckets/{}/{}/?region={}&tab=overview\">S3 Output Data</a> After The Processing Job Has Completed</b>'.format(\n",
    "            bucket, run_pre_training_bias_processing_job_name, region\n",
    "        )\n",
    "    )\n",
    ")"
   ]
  },
  {
   "cell_type": "code",
   "execution_count": 35,
   "metadata": {},
   "outputs": [
    {
     "name": "stdout",
     "output_type": "stream",
     "text": [
      "{'ProcessingInputs': [{'InputName': 'dataset', 'AppManaged': False, 'S3Input': {'S3Uri': 's3://cardiovale-solutions-datascience-pipeline/raw-data/cardio_train_fixed.csv', 'LocalPath': '/opt/ml/processing/input/data', 'S3DataType': 'S3Prefix', 'S3InputMode': 'File', 'S3DataDistributionType': 'FullyReplicated', 'S3CompressionType': 'None'}}, {'InputName': 'analysis_config', 'AppManaged': False, 'S3Input': {'S3Uri': 's3://cardiovale-solutions-datascience-pipeline/clarify/analysis_config.json', 'LocalPath': '/opt/ml/processing/input/config', 'S3DataType': 'S3Prefix', 'S3InputMode': 'File', 'S3DataDistributionType': 'FullyReplicated', 'S3CompressionType': 'None'}}], 'ProcessingOutputConfig': {'Outputs': [{'OutputName': 'analysis_result', 'S3Output': {'S3Uri': 's3://cardiovale-solutions-datascience-pipeline/clarify', 'LocalPath': '/opt/ml/processing/output', 'S3UploadMode': 'EndOfJob'}, 'AppManaged': False}]}, 'ProcessingJobName': 'Clarify-Pretraining-Bias-2025-03-17-22-43-26-379', 'ProcessingResources': {'ClusterConfig': {'InstanceCount': 1, 'InstanceType': 'ml.m5.xlarge', 'VolumeSizeInGB': 30}}, 'StoppingCondition': {'MaxRuntimeInSeconds': 86400}, 'AppSpecification': {'ImageUri': '205585389593.dkr.ecr.us-east-1.amazonaws.com/sagemaker-clarify-processing:1.0'}, 'RoleArn': 'arn:aws:iam::786782285170:role/LabRole', 'ProcessingJobArn': 'arn:aws:sagemaker:us-east-1:786782285170:processing-job/Clarify-Pretraining-Bias-2025-03-17-22-43-26-379', 'ProcessingJobStatus': 'Completed', 'ExitMessage': 'Completed: SageMaker XAI Analyzer ran successfully', 'ProcessingEndTime': datetime.datetime(2025, 3, 17, 22, 47, 1, tzinfo=tzlocal()), 'ProcessingStartTime': datetime.datetime(2025, 3, 17, 22, 44, 7, tzinfo=tzlocal()), 'LastModifiedTime': datetime.datetime(2025, 3, 17, 22, 48, 30, 140000, tzinfo=tzlocal()), 'CreationTime': datetime.datetime(2025, 3, 17, 22, 43, 26, 607000, tzinfo=tzlocal()), 'ResponseMetadata': {'RequestId': 'b4c98cfe-1bd7-44e9-ac97-2e28ba59ebc9', 'HTTPStatusCode': 200, 'HTTPHeaders': {'x-amzn-requestid': 'b4c98cfe-1bd7-44e9-ac97-2e28ba59ebc9', 'content-type': 'application/x-amz-json-1.1', 'content-length': '1822', 'date': 'Mon, 17 Mar 2025 22:52:07 GMT'}, 'RetryAttempts': 0}}\n"
     ]
    }
   ],
   "source": [
    "running_processor = sagemaker.processing.ProcessingJob.from_processing_name(\n",
    "    processing_job_name=run_pre_training_bias_processing_job_name, sagemaker_session=sess\n",
    ")\n",
    "\n",
    "processing_job_description = running_processor.describe()\n",
    "\n",
    "print(processing_job_description)"
   ]
  },
  {
   "cell_type": "code",
   "execution_count": 36,
   "metadata": {},
   "outputs": [
    {
     "name": "stdout",
     "output_type": "stream",
     "text": [
      "!"
     ]
    }
   ],
   "source": [
    "running_processor.wait(logs=False)"
   ]
  },
  {
   "cell_type": "markdown",
   "metadata": {},
   "source": [
    "# Download Report From S3\n",
    "The class-imbalance metric should match the value calculated for the unbalanced dataset using the open source version above."
   ]
  },
  {
   "cell_type": "code",
   "execution_count": 37,
   "metadata": {},
   "outputs": [
    {
     "name": "stdout",
     "output_type": "stream",
     "text": [
      "2025-03-17 22:47:01       1945 analysis.json\n",
      "2025-03-17 22:43:27        433 analysis_config.json\n",
      "2025-03-17 22:47:01     515756 report.html\n",
      "2025-03-17 22:47:01     243342 report.ipynb\n",
      "2025-03-17 22:47:01     253117 report.pdf\n"
     ]
    }
   ],
   "source": [
    "!aws s3 ls $bias_report_output_path/"
   ]
  },
  {
   "cell_type": "code",
   "execution_count": 38,
   "metadata": {},
   "outputs": [
    {
     "name": "stdout",
     "output_type": "stream",
     "text": [
      "download: s3://cardiovale-solutions-datascience-pipeline/clarify/analysis.json to generated_bias_report/analysis.json\n",
      "download: s3://cardiovale-solutions-datascience-pipeline/clarify/analysis_config.json to generated_bias_report/analysis_config.json\n",
      "download: s3://cardiovale-solutions-datascience-pipeline/clarify/report.html to generated_bias_report/report.html\n",
      "download: s3://cardiovale-solutions-datascience-pipeline/clarify/report.ipynb to generated_bias_report/report.ipynb\n",
      "download: s3://cardiovale-solutions-datascience-pipeline/clarify/report.pdf to generated_bias_report/report.pdf\n"
     ]
    }
   ],
   "source": [
    "!aws s3 cp --recursive $bias_report_output_path ./generated_bias_report/"
   ]
  },
  {
   "cell_type": "code",
   "execution_count": 39,
   "metadata": {},
   "outputs": [
    {
     "name": "stderr",
     "output_type": "stream",
     "text": [
      "/tmp/ipykernel_1766/2239962916.py:1: DeprecationWarning: Importing display from IPython.core.display is deprecated since IPython 7.14, please import from IPython.display\n",
      "  from IPython.core.display import display, HTML\n"
     ]
    },
    {
     "data": {
      "text/html": [
       "<b>Review <a target=\"blank\" href=\"./generated_bias_report/report.html\">Bias Report</a></b>"
      ],
      "text/plain": [
       "<IPython.core.display.HTML object>"
      ]
     },
     "metadata": {},
     "output_type": "display_data"
    }
   ],
   "source": [
    "from IPython.core.display import display, HTML\n",
    "\n",
    "display(HTML('<b>Review <a target=\"blank\" href=\"./generated_bias_report/report.html\">Bias Report</a></b>'))"
   ]
  },
  {
   "cell_type": "markdown",
   "metadata": {},
   "source": [
    "# Release Resources"
   ]
  },
  {
   "cell_type": "code",
   "execution_count": 21,
   "metadata": {},
   "outputs": [
    {
     "data": {
      "text/html": [
       "\n",
       "<p><b>Shutting down your kernel for this notebook to release resources.</b></p>\n",
       "<button class=\"sm-command-button\" data-commandlinker-command=\"kernelmenu:shutdown\" style=\"display:none;\">Shutdown Kernel</button>\n",
       "        \n",
       "<script>\n",
       "try {\n",
       "    els = document.getElementsByClassName(\"sm-command-button\");\n",
       "    els[0].click();\n",
       "}\n",
       "catch(err) {\n",
       "    // NoOp\n",
       "}    \n",
       "</script>\n"
      ],
      "text/plain": [
       "<IPython.core.display.HTML object>"
      ]
     },
     "metadata": {},
     "output_type": "display_data"
    }
   ],
   "source": [
    "%%html\n",
    "\n",
    "<p><b>Shutting down your kernel for this notebook to release resources.</b></p>\n",
    "<button class=\"sm-command-button\" data-commandlinker-command=\"kernelmenu:shutdown\" style=\"display:none;\">Shutdown Kernel</button>\n",
    "        \n",
    "<script>\n",
    "try {\n",
    "    els = document.getElementsByClassName(\"sm-command-button\");\n",
    "    els[0].click();\n",
    "}\n",
    "catch(err) {\n",
    "    // NoOp\n",
    "}    \n",
    "</script>"
   ]
  },
  {
   "cell_type": "code",
   "execution_count": 22,
   "metadata": {},
   "outputs": [
    {
     "data": {
      "application/javascript": [
       "\n",
       "try {\n",
       "    Jupyter.notebook.save_checkpoint();\n",
       "    Jupyter.notebook.session.delete();\n",
       "}\n",
       "catch(err) {\n",
       "    // NoOp\n",
       "}\n"
      ],
      "text/plain": [
       "<IPython.core.display.Javascript object>"
      ]
     },
     "metadata": {},
     "output_type": "display_data"
    }
   ],
   "source": [
    "%%javascript\n",
    "\n",
    "try {\n",
    "    Jupyter.notebook.save_checkpoint();\n",
    "    Jupyter.notebook.session.delete();\n",
    "}\n",
    "catch(err) {\n",
    "    // NoOp\n",
    "}"
   ]
  }
 ],
 "metadata": {
  "instance_type": "ml.t3.medium",
  "kernelspec": {
   "display_name": "Python 3 (ipykernel)",
   "language": "python",
   "name": "python3"
  },
  "language_info": {
   "codemirror_mode": {
    "name": "ipython",
    "version": 3
   },
   "file_extension": ".py",
   "mimetype": "text/x-python",
   "name": "python",
   "nbconvert_exporter": "python",
   "pygments_lexer": "ipython3",
   "version": "3.11.11"
  },
  "vscode": {
   "interpreter": {
    "hash": "ce8818790cad44a6c4d4d87801925e0af74a072dccf0eabc2062d9e876ce086a"
   }
  }
 },
 "nbformat": 4,
 "nbformat_minor": 4
}
