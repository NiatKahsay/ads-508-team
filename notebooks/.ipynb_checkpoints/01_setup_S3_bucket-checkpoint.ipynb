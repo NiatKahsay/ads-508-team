{
 "cells": [
  {
   "cell_type": "code",
   "execution_count": 1,
   "id": "31f0c8a2-ef59-420e-995e-9e88bded71fa",
   "metadata": {},
   "outputs": [
    {
     "name": "stdout",
     "output_type": "stream",
     "text": [
      "sagemaker.config INFO - Not applying SDK defaults from location: /etc/xdg/sagemaker/config.yaml\n",
      "sagemaker.config INFO - Not applying SDK defaults from location: /home/sagemaker-user/.config/sagemaker/config.yaml\n"
     ]
    }
   ],
   "source": [
    "import boto3\n",
    "import sagemaker\n",
    "\n",
    "# Initialize the SageMaker session and get the execution role.\n",
    "sagemaker_session = sagemaker.Session()\n",
    "role = sagemaker.get_execution_role()\n",
    "\n",
    "# Define your custom S3 bucket for the CardioValve project.\n",
    "# Replace the bucket name below with your chosen unique name if needed.\n",
    "bucket = \"cardiovale-solutions-datascience-pipeline\"\n",
    "region = boto3.Session().region_name\n",
    "\n",
    "# Create an S3 client for operations.\n",
    "sm = boto3.Session().client(service_name=\"sagemaker\", region_name=region)\n"
   ]
  },
  {
   "cell_type": "code",
   "execution_count": 2,
   "id": "18499c2c-4edb-4f54-83b6-b496e15f4e96",
   "metadata": {},
   "outputs": [
    {
     "name": "stdout",
     "output_type": "stream",
     "text": [
      "make_bucket: cardiovale-solutions-datascience-pipeline\n"
     ]
    }
   ],
   "source": [
    "# Create the S3 bucket if it doesn't already exist.\n",
    "!aws s3 mb s3://$bucket"
   ]
  },
  {
   "cell_type": "code",
   "execution_count": 6,
   "id": "c36a83c5-3bc0-47d7-aad6-f558c4ee1bf3",
   "metadata": {},
   "outputs": [
    {
     "name": "stdout",
     "output_type": "stream",
     "text": [
      "download: s3://cardiovale-solutions-datascience-pipeline/raw-data/cardio_train.csv to ../data/cardio_train.csv\n",
      "download: s3://cardiovale-solutions-datascience-pipeline/raw-data/Quitline___Services_Available___Medications_-_2010_To_Present_20250306.csv to ../data/Quitline___Services_Available___Medications_-_2010_To_Present_20250306.csv\n"
     ]
    }
   ],
   "source": [
    "!aws s3 cp s3://cardiovale-solutions-datascience-pipeline/raw-data/cardio_train.csv /home/sagemaker-user/ads-508-team/data/\n",
    "!aws s3 cp s3://cardiovale-solutions-datascience-pipeline/raw-data/Quitline___Services_Available___Medications_-_2010_To_Present_20250306.csv /home/sagemaker-user/ads-508-team/data/\n"
   ]
  },
  {
   "cell_type": "code",
   "execution_count": 8,
   "id": "1b2b31e9-43fb-47df-917b-fa4b0b82a22e",
   "metadata": {},
   "outputs": [
    {
     "name": "stdout",
     "output_type": "stream",
     "text": [
      "make_bucket: cardiovale-solutions-datascience-pipeline\n",
      "make_bucket: cardiovale-solutions-datascience-pipeline\n"
     ]
    }
   ],
   "source": [
    "!aws s3 mb s3://cardiovale-solutions-datascience-pipeline/raw-data/cardio_train/\n",
    "!aws s3 mb s3://cardiovale-solutions-datascience-pipeline/raw-data/quitline_services/\n"
   ]
  },
  {
   "cell_type": "code",
   "execution_count": 9,
   "id": "42d6606c-2613-40eb-9d22-9edaf353c1de",
   "metadata": {},
   "outputs": [
    {
     "name": "stdout",
     "output_type": "stream",
     "text": [
      "upload: ../data/cardio_train.csv to s3://cardiovale-solutions-datascience-pipeline/raw-data/cardio_train/cardio_train.csv\n",
      "upload: ../data/Quitline___Services_Available___Medications_-_2010_To_Present_20250306.csv to s3://cardiovale-solutions-datascience-pipeline/raw-data/quitline_services/Quitline___Services_Available___Medications_-_2010_To_Present_20250306.csv\n"
     ]
    }
   ],
   "source": [
    "!aws s3 cp /home/sagemaker-user/ads-508-team/data/cardio_train.csv s3://cardiovale-solutions-datascience-pipeline/raw-data/cardio_train/\n",
    "!aws s3 cp /home/sagemaker-user/ads-508-team/data/Quitline___Services_Available___Medications_-_2010_To_Present_20250306.csv s3://cardiovale-solutions-datascience-pipeline/raw-data/quitline_services/\n"
   ]
  },
  {
   "cell_type": "code",
   "execution_count": 11,
   "id": "3a5d505f-c6c1-448e-976e-48ce0aa8075f",
   "metadata": {},
   "outputs": [
    {
     "name": "stdout",
     "output_type": "stream",
     "text": [
      "move: s3://cardiovale-solutions-datascience-pipeline/raw-data/cardio_train_fixed.csv to s3://cardiovale-solutions-datascience-pipeline/raw-data/cardio_train/cardio_train_fixed.csv\n",
      "move: s3://cardiovale-solutions-datascience-pipeline/raw-data/Quitline___Services_Available___Medications_-_2010_To_Present_20250306.csv to s3://cardiovale-solutions-datascience-pipeline/raw-data/quitline_services/Quitline___Services_Available___Medications_-_2010_To_Present_20250306.csv\n"
     ]
    }
   ],
   "source": [
    "# Move the Cardio dataset to the correct folder\n",
    "!aws s3 mv s3://cardiovale-solutions-datascience-pipeline/raw-data/cardio_train_fixed.csv s3://cardiovale-solutions-datascience-pipeline/raw-data/cardio_train/cardio_train_fixed.csv\n",
    "\n",
    "# Move the Quitline dataset to the correct folder\n",
    "!aws s3 mv s3://cardiovale-solutions-datascience-pipeline/raw-data/Quitline___Services_Available___Medications_-_2010_To_Present_20250306.csv s3://cardiovale-solutions-datascience-pipeline/raw-data/quitline_services/Quitline___Services_Available___Medications_-_2010_To_Present_20250306.csv\n"
   ]
  },
  {
   "cell_type": "code",
   "execution_count": 17,
   "id": "e05e508f-3068-416b-9c37-5c3622583f24",
   "metadata": {},
   "outputs": [
    {
     "name": "stdout",
     "output_type": "stream",
     "text": [
      "2025-03-18 02:43:32    2941524 raw-data/cardio_train/cardio_train.csv\n",
      "2025-03-18 02:45:52    2941524 raw-data/cardio_train/cardio_train_fixed.csv\n",
      "2025-03-18 02:45:53    6934258 raw-data/quitline_services/Quitline___Services_Available___Medications_-_2010_To_Present_20250306.csv\n"
     ]
    }
   ],
   "source": [
    "!aws s3 ls s3://cardiovale-solutions-datascience-pipeline/raw-data/ --recursive\n"
   ]
  },
  {
   "cell_type": "code",
   "execution_count": 18,
   "id": "fe24b39c-d367-42f9-a940-0316518ae5db",
   "metadata": {},
   "outputs": [
    {
     "name": "stdout",
     "output_type": "stream",
     "text": [
      "                           PRE cardio_train/\n",
      "                           PRE quitline_services/\n"
     ]
    }
   ],
   "source": [
    "# List the contents of the newly uploaded folder to verify the files are there.\n",
    "!aws s3 ls s3://$bucket/raw-data/"
   ]
  },
  {
   "cell_type": "markdown",
   "id": "0390ad64-fd3e-47dc-8327-2a02dfd5187f",
   "metadata": {},
   "source": [
    "# Release Resources"
   ]
  },
  {
   "cell_type": "code",
   "execution_count": 19,
   "id": "c0d9f570-8385-47e2-9729-fdfb65386857",
   "metadata": {},
   "outputs": [
    {
     "data": {
      "text/html": [
       "\n",
       "<p><b>Shutting down your kernel for this notebook to release resources.</b></p>\n",
       "<button class=\"sm-command-button\" data-commandlinker-command=\"kernelmenu:shutdown\" style=\"display:none;\">Shutdown Kernel</button>\n",
       "        \n",
       "<script>\n",
       "try {\n",
       "    els = document.getElementsByClassName(\"sm-command-button\");\n",
       "    els[0].click();\n",
       "}\n",
       "catch(err) {\n",
       "    // NoOp\n",
       "}    \n",
       "</script>\n"
      ],
      "text/plain": [
       "<IPython.core.display.HTML object>"
      ]
     },
     "metadata": {},
     "output_type": "display_data"
    }
   ],
   "source": [
    "%%html\n",
    "\n",
    "<p><b>Shutting down your kernel for this notebook to release resources.</b></p>\n",
    "<button class=\"sm-command-button\" data-commandlinker-command=\"kernelmenu:shutdown\" style=\"display:none;\">Shutdown Kernel</button>\n",
    "        \n",
    "<script>\n",
    "try {\n",
    "    els = document.getElementsByClassName(\"sm-command-button\");\n",
    "    els[0].click();\n",
    "}\n",
    "catch(err) {\n",
    "    // NoOp\n",
    "}    \n",
    "</script>"
   ]
  },
  {
   "cell_type": "code",
   "execution_count": 1,
   "id": "d2686ddb-bdca-426e-91aa-6ae23e3be7a9",
   "metadata": {},
   "outputs": [
    {
     "data": {
      "application/javascript": [
       "\n",
       "try {\n",
       "    Jupyter.notebook.save_checkpoint();\n",
       "    Jupyter.notebook.session.delete();\n",
       "}\n",
       "catch(err) {\n",
       "    // NoOp\n",
       "}\n"
      ],
      "text/plain": [
       "<IPython.core.display.Javascript object>"
      ]
     },
     "metadata": {},
     "output_type": "display_data"
    }
   ],
   "source": [
    "%%javascript\n",
    "\n",
    "try {\n",
    "    Jupyter.notebook.save_checkpoint();\n",
    "    Jupyter.notebook.session.delete();\n",
    "}\n",
    "catch(err) {\n",
    "    // NoOp\n",
    "}"
   ]
  },
  {
   "cell_type": "code",
   "execution_count": null,
   "id": "545d074c-6da6-4289-9226-6754b0908869",
   "metadata": {},
   "outputs": [],
   "source": []
  }
 ],
 "metadata": {
  "kernelspec": {
   "display_name": "Python 3 (ipykernel)",
   "language": "python",
   "name": "python3"
  },
  "language_info": {
   "codemirror_mode": {
    "name": "ipython",
    "version": 3
   },
   "file_extension": ".py",
   "mimetype": "text/x-python",
   "name": "python",
   "nbconvert_exporter": "python",
   "pygments_lexer": "ipython3",
   "version": "3.11.11"
  }
 },
 "nbformat": 4,
 "nbformat_minor": 5
}
