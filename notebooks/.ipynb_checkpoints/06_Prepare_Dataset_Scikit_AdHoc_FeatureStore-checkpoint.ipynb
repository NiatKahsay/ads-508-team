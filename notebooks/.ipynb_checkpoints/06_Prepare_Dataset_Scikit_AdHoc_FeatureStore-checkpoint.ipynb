{
 "cells": [
  {
   "cell_type": "markdown",
   "metadata": {},
   "source": [
    "# Feature Transformation with Scikit-Learn In This Notebook\n",
    "## Saving Features into the SageMaker Feature Store\n",
    "\n"
   ]
  },
  {
   "cell_type": "code",
   "execution_count": 2,
   "metadata": {},
   "outputs": [
    {
     "name": "stdout",
     "output_type": "stream",
     "text": [
      "\u001b[31mERROR: Could not find a version that satisfies the requirement tensorflow==2.8.1 (from versions: 2.12.0rc0, 2.12.0rc1, 2.12.0, 2.12.1, 2.13.0rc0, 2.13.0rc1, 2.13.0rc2, 2.13.0, 2.13.1, 2.14.0rc0, 2.14.0rc1, 2.14.0, 2.14.1, 2.15.0rc0, 2.15.0rc1, 2.15.0, 2.15.0.post1, 2.15.1, 2.16.0rc0, 2.16.1, 2.16.2, 2.17.0rc0, 2.17.0rc1, 2.17.0, 2.17.1, 2.18.0rc0, 2.18.0rc1, 2.18.0rc2, 2.18.0, 2.18.1, 2.19.0rc0, 2.19.0)\u001b[0m\u001b[31m\n",
      "\u001b[0m\u001b[31mERROR: No matching distribution found for tensorflow==2.8.1\u001b[0m\u001b[31m\n",
      "\u001b[0mRequirement already satisfied: protobuf==3.20.* in /opt/conda/lib/python3.11/site-packages (3.20.3)\n",
      "sagemaker.config INFO - Not applying SDK defaults from location: /etc/xdg/sagemaker/config.yaml\n",
      "sagemaker.config INFO - Not applying SDK defaults from location: /home/sagemaker-user/.config/sagemaker/config.yaml\n"
     ]
    }
   ],
   "source": [
    "!pip install --disable-pip-version-check -q tensorflow==2.8.1\n",
    "!pip install --disable-pip-version-check -q transformers==4.46.0\n",
    "!pip install protobuf==3.20.*\n",
    "import sagemaker\n",
    "import boto3\n",
    "\n",
    "sess = sagemaker.Session()\n",
    "bucket = \"cardiovale-solutions-datascience-pipeline\"\n",
    "role = sagemaker.get_execution_role()\n",
    "region = boto3.Session().region_name\n",
    "\n",
    "sm = boto3.Session().client(service_name=\"sagemaker\", region_name=region)\n",
    "s3 = boto3.Session().client(service_name=\"s3\", region_name=region)"
   ]
  },
  {
   "cell_type": "markdown",
   "metadata": {},
   "source": [
    "# Prepare the data"
   ]
  },
  {
   "cell_type": "code",
   "execution_count": 3,
   "metadata": {},
   "outputs": [
    {
     "name": "stderr",
     "output_type": "stream",
     "text": [
      "/tmp/ipykernel_16444/3809400061.py:18: UserWarning: pandas only supports SQLAlchemy connectable (engine/connection) or database string URI or sqlite3 DBAPI2 connection. Other DBAPI2 objects are not tested. Please consider using SQLAlchemy.\n",
      "  df_cardio = pd.read_sql(query, conn)\n"
     ]
    },
    {
     "name": "stdout",
     "output_type": "stream",
     "text": [
      "Successfully loaded cardio_train_cleaned from Athena\n",
      "   id    age  gender  height  weight  ap_hi  ap_lo  cholesterol  gluc  smoke  \\\n",
      "0   0  18393       2     168    62.0    110     80            1     1      0   \n",
      "1   1  20228       1     156    85.0    140     90            3     1      0   \n",
      "2   2  18857       1     165    64.0    130     70            3     1      0   \n",
      "3   3  17623       2     169    82.0    150    100            1     1      0   \n",
      "4   4  17474       1     156    56.0    100     60            1     1      0   \n",
      "\n",
      "   alco  active  cardio  \n",
      "0     0       1       0  \n",
      "1     0       1       1  \n",
      "2     0       0       1  \n",
      "3     0       1       1  \n",
      "4     0       0       0  \n"
     ]
    }
   ],
   "source": [
    "import pandas as pd\n",
    "import boto3\n",
    "import sagemaker\n",
    "from sagemaker import get_execution_role\n",
    "from pyathena import connect\n",
    "\n",
    "# Setup AWS session\n",
    "region = boto3.Session().region_name\n",
    "sagemaker_session = sagemaker.Session()\n",
    "bucket = \"cardiovale-solutions-datascience-pipeline\"  # Your actual S3 bucket\n",
    "role = get_execution_role()\n",
    "\n",
    "# Connect to Athena\n",
    "conn = connect(s3_staging_dir=f\"s3://{bucket}/athena/staging/\", region_name=region)\n",
    "\n",
    "# Fetch `cardio_train_cleaned` dataset\n",
    "query = \"SELECT * FROM cardiovale_db.cardio_train_cleaned\"\n",
    "df_cardio = pd.read_sql(query, conn)\n",
    "\n",
    "print(\"Successfully loaded cardio_train_cleaned from Athena\")\n",
    "print(df_cardio.head())\n"
   ]
  },
  {
   "cell_type": "code",
   "execution_count": 4,
   "metadata": {},
   "outputs": [
    {
     "data": {
      "text/plain": [
       "Index(['id', 'age', 'gender', 'height', 'weight', 'ap_hi', 'ap_lo',\n",
       "       'cholesterol', 'gluc', 'smoke', 'alco', 'active', 'cardio'],\n",
       "      dtype='object')"
      ]
     },
     "execution_count": 4,
     "metadata": {},
     "output_type": "execute_result"
    }
   ],
   "source": [
    "df_cardio.columns"
   ]
  },
  {
   "cell_type": "code",
   "execution_count": 5,
   "metadata": {},
   "outputs": [
    {
     "name": "stderr",
     "output_type": "stream",
     "text": [
      "/tmp/ipykernel_16444/126416555.py:3: UserWarning: pandas only supports SQLAlchemy connectable (engine/connection) or database string URI or sqlite3 DBAPI2 connection. Other DBAPI2 objects are not tested. Please consider using SQLAlchemy.\n",
      "  df_quitline = pd.read_sql(query, conn)\n"
     ]
    },
    {
     "name": "stdout",
     "output_type": "stream",
     "text": [
      "Successfully loaded quitline_fixed from Athena\n",
      "   year  date date_ref locationabbr locationdesc topictype  \\\n",
      "0  2020    12  Jul-Dec           GA      Georgia  Quitline   \n",
      "1  2020    12  Jul-Dec           MO     Missouri  Quitline   \n",
      "2  2020    12  Jul-Dec           MT      Montana  Quitline   \n",
      "3  2020    12  Jul-Dec           NJ   New Jersey  Quitline   \n",
      "4  2020    12  Jul-Dec           OK     Oklahoma  Quitline   \n",
      "\n",
      "            topicdesc  measuredesc         sub_measure              variable  \\\n",
      "0  Services Available  Medications    Nicotine Lozenge                         \n",
      "1  Services Available  Medications    Nicotine Lozenge                         \n",
      "2  Services Available  Medications  Bupropion (Zyban®)                         \n",
      "3  Services Available  Medications    Nicotine Lozenge                         \n",
      "4  Services Available  Medications        Nicotine Gum  All Eligible Callers   \n",
      "\n",
      "   ... number_of_weeks_offered    limit_per_year comments  \\\n",
      "0  ...                     NaN                              \n",
      "1  ...                     NaN                              \n",
      "2  ...                     NaN                              \n",
      "3  ...                     NaN                              \n",
      "4  ...                     2.0  2 times per year            \n",
      "\n",
      "            geolocation             topictypeid topicid measureid  source  \\\n",
      "0   \"(32.83968109300048    -83.62758034599966)\"     QUI    900QUI  912MED   \n",
      "1  \"(38.635790776000476    -92.56630005299968)\"     QUI    900QUI  912MED   \n",
      "2   \"(47.06652897200047   -109.42442064499971)\"     QUI    900QUI  912MED   \n",
      "3   \"(40.13057004800049    -74.27369128799967)\"     QUI    900QUI  912MED   \n",
      "4   \"(35.47203135600046    -97.52107021399968)\"     QUI    900QUI  912MED   \n",
      "\n",
      "                        submeasureid displayorder  \n",
      "0  \"National Quitline Data Warehouse         None  \n",
      "1  \"National Quitline Data Warehouse         None  \n",
      "2  \"National Quitline Data Warehouse         None  \n",
      "3  \"National Quitline Data Warehouse         None  \n",
      "4  \"National Quitline Data Warehouse         None  \n",
      "\n",
      "[5 rows x 41 columns]\n"
     ]
    }
   ],
   "source": [
    "#fetch quitline_fixed_.csv\n",
    "query = \"SELECT * FROM cardiovale_db.quitline_fixed LIMIT 5\"\n",
    "df_quitline = pd.read_sql(query, conn)\n",
    "\n",
    "print(\"Successfully loaded quitline_fixed from Athena\")\n",
    "print(df_quitline.head())\n"
   ]
  },
  {
   "cell_type": "code",
   "execution_count": 6,
   "metadata": {},
   "outputs": [
    {
     "data": {
      "text/plain": [
       "Index(['year', 'date', 'date_ref', 'locationabbr', 'locationdesc', 'topictype',\n",
       "       'topicdesc', 'measuredesc', 'sub_measure', 'variable',\n",
       "       'offered_for_free', 'offered_for_free_text', 'geographic_requirements',\n",
       "       'geographic_requirements_text', 'age_requirements',\n",
       "       'age_requirements_text', 'readiness_to_quit_requirements',\n",
       "       'readiness_to_quit_requirements_text', 'counseling_requirements',\n",
       "       'counseling_requirements_text', 'physician_approval_required',\n",
       "       'physician_approval_required_text', 'medical_restrictions',\n",
       "       'medical_restrictions_text', 'insurance_requirements',\n",
       "       'insurance_requirements_text', 'other_requirements',\n",
       "       'other_requirements_text', 'limited_supply', 'limited_supply_text',\n",
       "       'unlimited_weeks_offered', 'number_of_weeks_offered', 'limit_per_year',\n",
       "       'comments', 'geolocation', 'topictypeid', 'topicid', 'measureid',\n",
       "       'source', 'submeasureid', 'displayorder'],\n",
       "      dtype='object')"
      ]
     },
     "execution_count": 6,
     "metadata": {},
     "output_type": "execute_result"
    }
   ],
   "source": [
    "df_quitline.columns"
   ]
  },
  {
   "cell_type": "code",
   "execution_count": 7,
   "metadata": {},
   "outputs": [
    {
     "name": "stderr",
     "output_type": "stream",
     "text": [
      "/tmp/ipykernel_16444/2642915367.py:48: FutureWarning: A value is trying to be set on a copy of a DataFrame or Series through chained assignment using an inplace method.\n",
      "The behavior will change in pandas 3.0. This inplace method will never work because the intermediate object on which we are setting values always behaves as a copy.\n",
      "\n",
      "For example, when doing 'df[col].method(value, inplace=True)', try using 'df.method({col: value}, inplace=True)' or df[col] = df[col].method(value) instead, to perform the operation inplace on the original object.\n",
      "\n",
      "\n",
      "  df_merged[\"Number_of_Weeks_Offered\"].fillna(0, inplace=True)\n"
     ]
    }
   ],
   "source": [
    "# --------------------------------------\n",
    "# The cardio dataset does not have a 'State' column, but the quitline dataset is state-based.\n",
    "# To merge both datasets, we randomly assign a state to each row in the cardio dataset.\n",
    "# This ensures we can associate each patient with state-level quitline data.\n",
    "# Note: This is an artificial assignment and does not reflect real patient locations.\n",
    "\n",
    "import random\n",
    "\n",
    "# Use correct column name from quitline dataset\n",
    "state_column = \"locationabbr\"\n",
    "\n",
    "# Extract unique state abbreviations (like 'CA', 'NY') from quitline data\n",
    "states = df_quitline[state_column].dropna().unique().tolist()\n",
    "\n",
    "# Assign a random state to each row in cardio data for merging\n",
    "df_cardio[\"State\"] = [random.choice(states) for _ in range(len(df_cardio))]\n",
    "\n",
    "# --------------------------------------\n",
    "# Aggregating Quitline Data\n",
    "# ----------------------------\n",
    "# Summarize quitline data per state:\n",
    "# - % of entries offering treatment for free\n",
    "# - % of entries with medical restrictions\n",
    "# - Average number of weeks offered\n",
    "\n",
    "df_quitline_summary = df_quitline.groupby(state_column).agg({\n",
    "    \"offered_for_free\": lambda x: (x == \"Yes\").mean(),        # e.g., 0.85 = 85% states offer it for free\n",
    "    \"medical_restrictions\": lambda x: (x == \"Yes\").mean(),    # e.g., 0.40 = 40% states have restrictions\n",
    "    \"number_of_weeks_offered\": \"mean\"                         # average weeks offered\n",
    "}).reset_index()\n",
    "\n",
    "# Rename for consistency with df_cardio's 'State'\n",
    "df_quitline_summary.rename(columns={\n",
    "    state_column: \"State\",\n",
    "    \"offered_for_free\": \"Offered_for_Free\",\n",
    "    \"medical_restrictions\": \"Medical_Restrictions\",\n",
    "    \"number_of_weeks_offered\": \"Number_of_Weeks_Offered\"\n",
    "}, inplace=True)\n",
    "\n",
    "# --------------------------------------\n",
    "# Merging Data\n",
    "# ----------------------------\n",
    "# Merge cardio data with summarized quitline data using 'State' as the key\n",
    "\n",
    "df_merged = df_cardio.merge(df_quitline_summary, on=\"State\", how=\"left\")\n",
    "\n",
    "# Handle missing state-level data (just in case)\n",
    "df_merged[\"Number_of_Weeks_Offered\"].fillna(0, inplace=True)\n",
    "\n",
    "# Convert 'State' to categorical for feature store\n",
    "df_merged[\"State\"] = df_merged[\"State\"].astype(\"category\")\n"
   ]
  },
  {
   "cell_type": "code",
   "execution_count": 8,
   "metadata": {},
   "outputs": [
    {
     "data": {
      "text/html": [
       "<div>\n",
       "<style scoped>\n",
       "    .dataframe tbody tr th:only-of-type {\n",
       "        vertical-align: middle;\n",
       "    }\n",
       "\n",
       "    .dataframe tbody tr th {\n",
       "        vertical-align: top;\n",
       "    }\n",
       "\n",
       "    .dataframe thead th {\n",
       "        text-align: right;\n",
       "    }\n",
       "</style>\n",
       "<table border=\"1\" class=\"dataframe\">\n",
       "  <thead>\n",
       "    <tr style=\"text-align: right;\">\n",
       "      <th></th>\n",
       "      <th>id</th>\n",
       "      <th>age</th>\n",
       "      <th>gender</th>\n",
       "      <th>height</th>\n",
       "      <th>weight</th>\n",
       "      <th>ap_hi</th>\n",
       "      <th>ap_lo</th>\n",
       "      <th>cholesterol</th>\n",
       "      <th>gluc</th>\n",
       "      <th>smoke</th>\n",
       "      <th>alco</th>\n",
       "      <th>active</th>\n",
       "      <th>cardio</th>\n",
       "      <th>State</th>\n",
       "      <th>offered_for_free</th>\n",
       "      <th>medical_restrictions</th>\n",
       "      <th>number_of_weeks_offered</th>\n",
       "    </tr>\n",
       "  </thead>\n",
       "  <tbody>\n",
       "    <tr>\n",
       "      <th>0</th>\n",
       "      <td>0</td>\n",
       "      <td>18393</td>\n",
       "      <td>2</td>\n",
       "      <td>168</td>\n",
       "      <td>62.0</td>\n",
       "      <td>110</td>\n",
       "      <td>80</td>\n",
       "      <td>1</td>\n",
       "      <td>1</td>\n",
       "      <td>0</td>\n",
       "      <td>0</td>\n",
       "      <td>1</td>\n",
       "      <td>0</td>\n",
       "      <td>MO</td>\n",
       "      <td>0.0</td>\n",
       "      <td>0.0</td>\n",
       "      <td>0.0</td>\n",
       "    </tr>\n",
       "    <tr>\n",
       "      <th>1</th>\n",
       "      <td>1</td>\n",
       "      <td>20228</td>\n",
       "      <td>1</td>\n",
       "      <td>156</td>\n",
       "      <td>85.0</td>\n",
       "      <td>140</td>\n",
       "      <td>90</td>\n",
       "      <td>3</td>\n",
       "      <td>1</td>\n",
       "      <td>0</td>\n",
       "      <td>0</td>\n",
       "      <td>1</td>\n",
       "      <td>1</td>\n",
       "      <td>GA</td>\n",
       "      <td>0.0</td>\n",
       "      <td>0.0</td>\n",
       "      <td>0.0</td>\n",
       "    </tr>\n",
       "    <tr>\n",
       "      <th>2</th>\n",
       "      <td>2</td>\n",
       "      <td>18857</td>\n",
       "      <td>1</td>\n",
       "      <td>165</td>\n",
       "      <td>64.0</td>\n",
       "      <td>130</td>\n",
       "      <td>70</td>\n",
       "      <td>3</td>\n",
       "      <td>1</td>\n",
       "      <td>0</td>\n",
       "      <td>0</td>\n",
       "      <td>0</td>\n",
       "      <td>1</td>\n",
       "      <td>MO</td>\n",
       "      <td>0.0</td>\n",
       "      <td>0.0</td>\n",
       "      <td>0.0</td>\n",
       "    </tr>\n",
       "    <tr>\n",
       "      <th>3</th>\n",
       "      <td>3</td>\n",
       "      <td>17623</td>\n",
       "      <td>2</td>\n",
       "      <td>169</td>\n",
       "      <td>82.0</td>\n",
       "      <td>150</td>\n",
       "      <td>100</td>\n",
       "      <td>1</td>\n",
       "      <td>1</td>\n",
       "      <td>0</td>\n",
       "      <td>0</td>\n",
       "      <td>1</td>\n",
       "      <td>1</td>\n",
       "      <td>GA</td>\n",
       "      <td>0.0</td>\n",
       "      <td>0.0</td>\n",
       "      <td>0.0</td>\n",
       "    </tr>\n",
       "    <tr>\n",
       "      <th>4</th>\n",
       "      <td>4</td>\n",
       "      <td>17474</td>\n",
       "      <td>1</td>\n",
       "      <td>156</td>\n",
       "      <td>56.0</td>\n",
       "      <td>100</td>\n",
       "      <td>60</td>\n",
       "      <td>1</td>\n",
       "      <td>1</td>\n",
       "      <td>0</td>\n",
       "      <td>0</td>\n",
       "      <td>0</td>\n",
       "      <td>0</td>\n",
       "      <td>NJ</td>\n",
       "      <td>1.0</td>\n",
       "      <td>0.0</td>\n",
       "      <td>0.0</td>\n",
       "    </tr>\n",
       "  </tbody>\n",
       "</table>\n",
       "</div>"
      ],
      "text/plain": [
       "   id    age  gender  height  weight  ap_hi  ap_lo  cholesterol  gluc  smoke  \\\n",
       "0   0  18393       2     168    62.0    110     80            1     1      0   \n",
       "1   1  20228       1     156    85.0    140     90            3     1      0   \n",
       "2   2  18857       1     165    64.0    130     70            3     1      0   \n",
       "3   3  17623       2     169    82.0    150    100            1     1      0   \n",
       "4   4  17474       1     156    56.0    100     60            1     1      0   \n",
       "\n",
       "   alco  active  cardio State  offered_for_free  medical_restrictions  \\\n",
       "0     0       1       0    MO               0.0                   0.0   \n",
       "1     0       1       1    GA               0.0                   0.0   \n",
       "2     0       0       1    MO               0.0                   0.0   \n",
       "3     0       1       1    GA               0.0                   0.0   \n",
       "4     0       0       0    NJ               1.0                   0.0   \n",
       "\n",
       "   number_of_weeks_offered  \n",
       "0                      0.0  \n",
       "1                      0.0  \n",
       "2                      0.0  \n",
       "3                      0.0  \n",
       "4                      0.0  "
      ]
     },
     "execution_count": 8,
     "metadata": {},
     "output_type": "execute_result"
    }
   ],
   "source": [
    "# Rename columns to match Feature Store definition\n",
    "df_merged.rename(columns={\n",
    "    \"Offered_for_Free\": \"offered_for_free\",\n",
    "    \"Medical_Restrictions\": \"medical_restrictions\",\n",
    "    \"Number_of_Weeks_Offered\": \"number_of_weeks_offered\"\n",
    "}, inplace=True)\n",
    "\n",
    "df_merged.head()"
   ]
  },
  {
   "cell_type": "code",
   "execution_count": 9,
   "metadata": {},
   "outputs": [
    {
     "data": {
      "text/plain": [
       "Index(['id', 'age', 'gender', 'height', 'weight', 'ap_hi', 'ap_lo',\n",
       "       'cholesterol', 'gluc', 'smoke', 'alco', 'active', 'cardio', 'State',\n",
       "       'offered_for_free', 'medical_restrictions', 'number_of_weeks_offered'],\n",
       "      dtype='object')"
      ]
     },
     "execution_count": 9,
     "metadata": {},
     "output_type": "execute_result"
    }
   ],
   "source": [
    "df_merged.columns"
   ]
  },
  {
   "cell_type": "markdown",
   "metadata": {},
   "source": [
    "## Feature Store requires an Event Time feature\n"
   ]
  },
  {
   "cell_type": "code",
   "execution_count": 10,
   "metadata": {
    "scrolled": true
   },
   "outputs": [
    {
     "name": "stdout",
     "output_type": "stream",
     "text": [
      "Waiting for feature group creation...\n",
      "Waiting for feature group creation...\n",
      "Waiting for feature group creation...\n",
      "Waiting for feature group creation...\n",
      "Waiting for feature group creation...\n",
      "Waiting for feature group creation...\n",
      "Waiting for feature group creation...\n",
      "Waiting for feature group creation...\n"
     ]
    },
    {
     "data": {
      "text/plain": [
       "IngestionManagerPandas(feature_group_name='cardio-feature-group-22-19-08-49', feature_definitions={'id': {'FeatureName': 'id', 'FeatureType': 'Integral'}, 'age': {'FeatureName': 'age', 'FeatureType': 'Integral'}, 'gender': {'FeatureName': 'gender', 'FeatureType': 'Integral'}, 'height': {'FeatureName': 'height', 'FeatureType': 'Integral'}, 'weight': {'FeatureName': 'weight', 'FeatureType': 'Fractional'}, 'ap_hi': {'FeatureName': 'ap_hi', 'FeatureType': 'Integral'}, 'ap_lo': {'FeatureName': 'ap_lo', 'FeatureType': 'Integral'}, 'cholesterol': {'FeatureName': 'cholesterol', 'FeatureType': 'Integral'}, 'gluc': {'FeatureName': 'gluc', 'FeatureType': 'Integral'}, 'smoke': {'FeatureName': 'smoke', 'FeatureType': 'Integral'}, 'alco': {'FeatureName': 'alco', 'FeatureType': 'Integral'}, 'active': {'FeatureName': 'active', 'FeatureType': 'Integral'}, 'cardio': {'FeatureName': 'cardio', 'FeatureType': 'Integral'}, 'State': {'FeatureName': 'State', 'FeatureType': 'String'}, 'offered_for_free': {'FeatureName': 'offered_for_free', 'FeatureType': 'Fractional'}, 'medical_restrictions': {'FeatureName': 'medical_restrictions', 'FeatureType': 'Fractional'}, 'number_of_weeks_offered': {'FeatureName': 'number_of_weeks_offered', 'FeatureType': 'Fractional'}, 'event_time': {'FeatureName': 'event_time', 'FeatureType': 'String'}, 'split_type': {'FeatureName': 'split_type', 'FeatureType': 'String'}}, sagemaker_fs_runtime_client_config=<botocore.config.Config object at 0x7f76325b1650>, sagemaker_session=<sagemaker.session.Session object at 0x7f7685ed3690>, max_workers=3, max_processes=1, profile_name=None, _async_result=<multiprocess.pool.MapResult object at 0x7f762fb47110>, _processing_pool=<pool ProcessPool(ncpus=1)>, _failed_indices=[])"
      ]
     },
     "execution_count": 10,
     "metadata": {},
     "output_type": "execute_result"
    }
   ],
   "source": [
    "from time import gmtime, strftime\n",
    "from sagemaker.feature_store.feature_group import FeatureGroup\n",
    "from sagemaker.feature_store.feature_definition import FeatureDefinition, FeatureTypeEnum\n",
    "from datetime import datetime\n",
    "import time\n",
    "\n",
    "# 1. Generate a unique name using timestamp\n",
    "timestamp = strftime(\"%d-%H-%M-%S\", gmtime())\n",
    "feature_group_name = f\"cardio-feature-group-{timestamp}\"\n",
    "\n",
    "# 2. Define feature schema (make sure all columns in df_merged match these names & types exactly)\n",
    "feature_definitions = [\n",
    "    FeatureDefinition(\"id\", FeatureTypeEnum.INTEGRAL),\n",
    "    FeatureDefinition(\"age\", FeatureTypeEnum.INTEGRAL),\n",
    "    FeatureDefinition(\"gender\", FeatureTypeEnum.INTEGRAL),\n",
    "    FeatureDefinition(\"height\", FeatureTypeEnum.INTEGRAL),\n",
    "    FeatureDefinition(\"weight\", FeatureTypeEnum.FRACTIONAL),\n",
    "    FeatureDefinition(\"ap_hi\", FeatureTypeEnum.INTEGRAL),\n",
    "    FeatureDefinition(\"ap_lo\", FeatureTypeEnum.INTEGRAL),\n",
    "    FeatureDefinition(\"cholesterol\", FeatureTypeEnum.INTEGRAL),\n",
    "    FeatureDefinition(\"gluc\", FeatureTypeEnum.INTEGRAL),\n",
    "    FeatureDefinition(\"smoke\", FeatureTypeEnum.INTEGRAL),\n",
    "    FeatureDefinition(\"alco\", FeatureTypeEnum.INTEGRAL),\n",
    "    FeatureDefinition(\"active\", FeatureTypeEnum.INTEGRAL),\n",
    "    FeatureDefinition(\"cardio\", FeatureTypeEnum.INTEGRAL),\n",
    "    FeatureDefinition(\"State\", FeatureTypeEnum.STRING),\n",
    "    FeatureDefinition(\"offered_for_free\", FeatureTypeEnum.FRACTIONAL),  # updated to match lowercase\n",
    "    FeatureDefinition(\"medical_restrictions\", FeatureTypeEnum.FRACTIONAL),\n",
    "    FeatureDefinition(\"number_of_weeks_offered\", FeatureTypeEnum.FRACTIONAL),\n",
    "    FeatureDefinition(\"event_time\", FeatureTypeEnum.STRING),\n",
    "    FeatureDefinition(\"split_type\", FeatureTypeEnum.STRING),\n",
    "]\n",
    "\n",
    "# 3. Create the FeatureGroup object\n",
    "feature_group = FeatureGroup(\n",
    "    name=feature_group_name,\n",
    "    sagemaker_session=sagemaker_session,\n",
    "    feature_definitions=feature_definitions\n",
    ")\n",
    "\n",
    "# 4. Create the feature group in SageMaker Feature Store\n",
    "feature_group.create(\n",
    "    record_identifier_name=\"id\",\n",
    "    event_time_feature_name=\"event_time\",\n",
    "    role_arn=role,\n",
    "    s3_uri=f\"s3://{bucket}/feature-store/cardio/{feature_group_name}\",\n",
    "    enable_online_store=False,\n",
    ")\n",
    "\n",
    "# 5. Wait until Feature Group is ready\n",
    "while feature_group.describe()[\"FeatureGroupStatus\"] == \"Creating\":\n",
    "    print(\"Waiting for feature group creation...\")\n",
    "    time.sleep(5)\n",
    "\n",
    "# ✅ 6. Add `event_time` column before ingestion (this is crucial!)\n",
    "df_merged[\"event_time\"] = datetime.utcnow().strftime(\"%Y-%m-%dT%H:%M:%SZ\")\n",
    "\n",
    "# 7. Add split_type for SageMaker Autopilot compatibility\n",
    "df_merged[\"split_type\"] = \"train\"\n",
    "\n",
    "# 8. Ingest data into feature store\n",
    "feature_group.ingest(data_frame=df_merged, max_workers=3, wait=True)\n"
   ]
  },
  {
   "cell_type": "markdown",
   "metadata": {},
   "source": [
    "## Specify `record identifier` and `event time` features"
   ]
  },
  {
   "cell_type": "code",
   "execution_count": 11,
   "metadata": {},
   "outputs": [],
   "source": [
    "# Specify the column used to uniquely identify each record\n",
    "record_identifier_feature_name = \"id\"  # 'id' is unique identifier in the cardio dataset\n",
    "\n",
    "# Specify the column used to track event time (required by Feature Store)\n",
    "event_time_feature_name = \"event_time\"  # already created with timestamp in dataframe\n"
   ]
  },
  {
   "cell_type": "markdown",
   "metadata": {},
   "source": [
    "## Set S3 Prefix for Offline Feature Store"
   ]
  },
  {
   "cell_type": "code",
   "execution_count": 12,
   "metadata": {},
   "outputs": [
    {
     "name": "stdout",
     "output_type": "stream",
     "text": [
      "cardio-feature-store-22-19-08-49\n"
     ]
    }
   ],
   "source": [
    "prefix = \"cardio-feature-store-\" + timestamp\n",
    "print(prefix)"
   ]
  },
  {
   "cell_type": "markdown",
   "metadata": {},
   "source": [
    "## Create Feature Group"
   ]
  },
  {
   "cell_type": "code",
   "execution_count": 13,
   "metadata": {},
   "outputs": [
    {
     "ename": "ResourceInUse",
     "evalue": "An error occurred (ResourceInUse) when calling the CreateFeatureGroup operation: Resource Already Exists: FeatureGroup with name cardio-feature-group-22-19-08-49 already exists. Choose a different name.",
     "output_type": "error",
     "traceback": [
      "\u001b[0;31m---------------------------------------------------------------------------\u001b[0m",
      "\u001b[0;31mResourceInUse\u001b[0m                             Traceback (most recent call last)",
      "Cell \u001b[0;32mIn[13], line 1\u001b[0m\n\u001b[0;32m----> 1\u001b[0m \u001b[43mfeature_group\u001b[49m\u001b[38;5;241;43m.\u001b[39;49m\u001b[43mcreate\u001b[49m\u001b[43m(\u001b[49m\n\u001b[1;32m      2\u001b[0m \u001b[43m    \u001b[49m\u001b[43ms3_uri\u001b[49m\u001b[38;5;241;43m=\u001b[39;49m\u001b[38;5;124;43mf\u001b[39;49m\u001b[38;5;124;43m\"\u001b[39;49m\u001b[38;5;124;43ms3://\u001b[39;49m\u001b[38;5;132;43;01m{\u001b[39;49;00m\u001b[43mbucket\u001b[49m\u001b[38;5;132;43;01m}\u001b[39;49;00m\u001b[38;5;124;43m/\u001b[39;49m\u001b[38;5;132;43;01m{\u001b[39;49;00m\u001b[43mprefix\u001b[49m\u001b[38;5;132;43;01m}\u001b[39;49;00m\u001b[38;5;124;43m\"\u001b[39;49m\u001b[43m,\u001b[49m\n\u001b[1;32m      3\u001b[0m \u001b[43m    \u001b[49m\u001b[43mrecord_identifier_name\u001b[49m\u001b[38;5;241;43m=\u001b[39;49m\u001b[43mrecord_identifier_feature_name\u001b[49m\u001b[43m,\u001b[49m\n\u001b[1;32m      4\u001b[0m \u001b[43m    \u001b[49m\u001b[43mevent_time_feature_name\u001b[49m\u001b[38;5;241;43m=\u001b[39;49m\u001b[43mevent_time_feature_name\u001b[49m\u001b[43m,\u001b[49m\n\u001b[1;32m      5\u001b[0m \u001b[43m    \u001b[49m\u001b[43mrole_arn\u001b[49m\u001b[38;5;241;43m=\u001b[39;49m\u001b[43mrole\u001b[49m\u001b[43m,\u001b[49m\n\u001b[1;32m      6\u001b[0m \u001b[43m    \u001b[49m\u001b[43menable_online_store\u001b[49m\u001b[38;5;241;43m=\u001b[39;49m\u001b[38;5;28;43;01mFalse\u001b[39;49;00m\n\u001b[1;32m      7\u001b[0m \u001b[43m)\u001b[49m\n",
      "File \u001b[0;32m/opt/conda/lib/python3.11/site-packages/sagemaker/feature_store/feature_group.py:789\u001b[0m, in \u001b[0;36mFeatureGroup.create\u001b[0;34m(self, s3_uri, record_identifier_name, event_time_feature_name, role_arn, online_store_kms_key_id, enable_online_store, ttl_duration, offline_store_kms_key_id, disable_glue_table_creation, data_catalog_config, description, tags, table_format, online_store_storage_type, throughput_config)\u001b[0m\n\u001b[1;32m    779\u001b[0m     offline_store_config \u001b[38;5;241m=\u001b[39m OfflineStoreConfig(\n\u001b[1;32m    780\u001b[0m         s3_storage_config\u001b[38;5;241m=\u001b[39ms3_storage_config,\n\u001b[1;32m    781\u001b[0m         disable_glue_table_creation\u001b[38;5;241m=\u001b[39mdisable_glue_table_creation,\n\u001b[1;32m    782\u001b[0m         data_catalog_config\u001b[38;5;241m=\u001b[39mdata_catalog_config,\n\u001b[1;32m    783\u001b[0m         table_format\u001b[38;5;241m=\u001b[39mtable_format,\n\u001b[1;32m    784\u001b[0m     )\n\u001b[1;32m    785\u001b[0m     create_feature_store_args\u001b[38;5;241m.\u001b[39mupdate(\n\u001b[1;32m    786\u001b[0m         {\u001b[38;5;124m\"\u001b[39m\u001b[38;5;124moffline_store_config\u001b[39m\u001b[38;5;124m\"\u001b[39m: offline_store_config\u001b[38;5;241m.\u001b[39mto_dict()}\n\u001b[1;32m    787\u001b[0m     )\n\u001b[0;32m--> 789\u001b[0m \u001b[38;5;28;01mreturn\u001b[39;00m \u001b[38;5;28;43mself\u001b[39;49m\u001b[38;5;241;43m.\u001b[39;49m\u001b[43msagemaker_session\u001b[49m\u001b[38;5;241;43m.\u001b[39;49m\u001b[43mcreate_feature_group\u001b[49m\u001b[43m(\u001b[49m\u001b[38;5;241;43m*\u001b[39;49m\u001b[38;5;241;43m*\u001b[39;49m\u001b[43mcreate_feature_store_args\u001b[49m\u001b[43m)\u001b[49m\n",
      "File \u001b[0;32m/opt/conda/lib/python3.11/site-packages/sagemaker/session.py:6088\u001b[0m, in \u001b[0;36mSession.create_feature_group\u001b[0;34m(self, feature_group_name, record_identifier_name, event_time_feature_name, feature_definitions, role_arn, online_store_config, offline_store_config, throughput_config, description, tags)\u001b[0m\n\u001b[1;32m   6073\u001b[0m kwargs \u001b[38;5;241m=\u001b[39m \u001b[38;5;28mdict\u001b[39m(\n\u001b[1;32m   6074\u001b[0m     FeatureGroupName\u001b[38;5;241m=\u001b[39mfeature_group_name,\n\u001b[1;32m   6075\u001b[0m     RecordIdentifierFeatureName\u001b[38;5;241m=\u001b[39mrecord_identifier_name,\n\u001b[0;32m   (...)\u001b[0m\n\u001b[1;32m   6078\u001b[0m     RoleArn\u001b[38;5;241m=\u001b[39mrole_arn,\n\u001b[1;32m   6079\u001b[0m )\n\u001b[1;32m   6080\u001b[0m update_args(\n\u001b[1;32m   6081\u001b[0m     kwargs,\n\u001b[1;32m   6082\u001b[0m     OnlineStoreConfig\u001b[38;5;241m=\u001b[39minferred_online_store_from_config,\n\u001b[0;32m   (...)\u001b[0m\n\u001b[1;32m   6086\u001b[0m     Tags\u001b[38;5;241m=\u001b[39mtags,\n\u001b[1;32m   6087\u001b[0m )\n\u001b[0;32m-> 6088\u001b[0m \u001b[38;5;28;01mreturn\u001b[39;00m \u001b[38;5;28;43mself\u001b[39;49m\u001b[38;5;241;43m.\u001b[39;49m\u001b[43msagemaker_client\u001b[49m\u001b[38;5;241;43m.\u001b[39;49m\u001b[43mcreate_feature_group\u001b[49m\u001b[43m(\u001b[49m\u001b[38;5;241;43m*\u001b[39;49m\u001b[38;5;241;43m*\u001b[39;49m\u001b[43mkwargs\u001b[49m\u001b[43m)\u001b[49m\n",
      "File \u001b[0;32m/opt/conda/lib/python3.11/site-packages/botocore/client.py:569\u001b[0m, in \u001b[0;36mClientCreator._create_api_method.<locals>._api_call\u001b[0;34m(self, *args, **kwargs)\u001b[0m\n\u001b[1;32m    565\u001b[0m     \u001b[38;5;28;01mraise\u001b[39;00m \u001b[38;5;167;01mTypeError\u001b[39;00m(\n\u001b[1;32m    566\u001b[0m         \u001b[38;5;124mf\u001b[39m\u001b[38;5;124m\"\u001b[39m\u001b[38;5;132;01m{\u001b[39;00mpy_operation_name\u001b[38;5;132;01m}\u001b[39;00m\u001b[38;5;124m() only accepts keyword arguments.\u001b[39m\u001b[38;5;124m\"\u001b[39m\n\u001b[1;32m    567\u001b[0m     )\n\u001b[1;32m    568\u001b[0m \u001b[38;5;66;03m# The \"self\" in this scope is referring to the BaseClient.\u001b[39;00m\n\u001b[0;32m--> 569\u001b[0m \u001b[38;5;28;01mreturn\u001b[39;00m \u001b[38;5;28;43mself\u001b[39;49m\u001b[38;5;241;43m.\u001b[39;49m\u001b[43m_make_api_call\u001b[49m\u001b[43m(\u001b[49m\u001b[43moperation_name\u001b[49m\u001b[43m,\u001b[49m\u001b[43m \u001b[49m\u001b[43mkwargs\u001b[49m\u001b[43m)\u001b[49m\n",
      "File \u001b[0;32m/opt/conda/lib/python3.11/site-packages/botocore/client.py:1023\u001b[0m, in \u001b[0;36mBaseClient._make_api_call\u001b[0;34m(self, operation_name, api_params)\u001b[0m\n\u001b[1;32m   1019\u001b[0m     error_code \u001b[38;5;241m=\u001b[39m error_info\u001b[38;5;241m.\u001b[39mget(\u001b[38;5;124m\"\u001b[39m\u001b[38;5;124mQueryErrorCode\u001b[39m\u001b[38;5;124m\"\u001b[39m) \u001b[38;5;129;01mor\u001b[39;00m error_info\u001b[38;5;241m.\u001b[39mget(\n\u001b[1;32m   1020\u001b[0m         \u001b[38;5;124m\"\u001b[39m\u001b[38;5;124mCode\u001b[39m\u001b[38;5;124m\"\u001b[39m\n\u001b[1;32m   1021\u001b[0m     )\n\u001b[1;32m   1022\u001b[0m     error_class \u001b[38;5;241m=\u001b[39m \u001b[38;5;28mself\u001b[39m\u001b[38;5;241m.\u001b[39mexceptions\u001b[38;5;241m.\u001b[39mfrom_code(error_code)\n\u001b[0;32m-> 1023\u001b[0m     \u001b[38;5;28;01mraise\u001b[39;00m error_class(parsed_response, operation_name)\n\u001b[1;32m   1024\u001b[0m \u001b[38;5;28;01melse\u001b[39;00m:\n\u001b[1;32m   1025\u001b[0m     \u001b[38;5;28;01mreturn\u001b[39;00m parsed_response\n",
      "\u001b[0;31mResourceInUse\u001b[0m: An error occurred (ResourceInUse) when calling the CreateFeatureGroup operation: Resource Already Exists: FeatureGroup with name cardio-feature-group-22-19-08-49 already exists. Choose a different name."
     ]
    }
   ],
   "source": [
    "feature_group.create(\n",
    "    s3_uri=f\"s3://{bucket}/{prefix}\",\n",
    "    record_identifier_name=record_identifier_feature_name,\n",
    "    event_time_feature_name=event_time_feature_name,\n",
    "    role_arn=role,\n",
    "    enable_online_store=False\n",
    ")"
   ]
  },
  {
   "cell_type": "markdown",
   "metadata": {},
   "source": [
    "## Describe the Feature Group"
   ]
  },
  {
   "cell_type": "code",
   "execution_count": 14,
   "metadata": {},
   "outputs": [
    {
     "data": {
      "text/plain": [
       "{'FeatureGroupArn': 'arn:aws:sagemaker:us-east-1:786782285170:feature-group/cardio-feature-group-22-19-08-49',\n",
       " 'FeatureGroupName': 'cardio-feature-group-22-19-08-49',\n",
       " 'RecordIdentifierFeatureName': 'id',\n",
       " 'EventTimeFeatureName': 'event_time',\n",
       " 'FeatureDefinitions': [{'FeatureName': 'id', 'FeatureType': 'Integral'},\n",
       "  {'FeatureName': 'age', 'FeatureType': 'Integral'},\n",
       "  {'FeatureName': 'gender', 'FeatureType': 'Integral'},\n",
       "  {'FeatureName': 'height', 'FeatureType': 'Integral'},\n",
       "  {'FeatureName': 'weight', 'FeatureType': 'Fractional'},\n",
       "  {'FeatureName': 'ap_hi', 'FeatureType': 'Integral'},\n",
       "  {'FeatureName': 'ap_lo', 'FeatureType': 'Integral'},\n",
       "  {'FeatureName': 'cholesterol', 'FeatureType': 'Integral'},\n",
       "  {'FeatureName': 'gluc', 'FeatureType': 'Integral'},\n",
       "  {'FeatureName': 'smoke', 'FeatureType': 'Integral'},\n",
       "  {'FeatureName': 'alco', 'FeatureType': 'Integral'},\n",
       "  {'FeatureName': 'active', 'FeatureType': 'Integral'},\n",
       "  {'FeatureName': 'cardio', 'FeatureType': 'Integral'},\n",
       "  {'FeatureName': 'State', 'FeatureType': 'String'},\n",
       "  {'FeatureName': 'offered_for_free', 'FeatureType': 'Fractional'},\n",
       "  {'FeatureName': 'medical_restrictions', 'FeatureType': 'Fractional'},\n",
       "  {'FeatureName': 'number_of_weeks_offered', 'FeatureType': 'Fractional'},\n",
       "  {'FeatureName': 'event_time', 'FeatureType': 'String'},\n",
       "  {'FeatureName': 'split_type', 'FeatureType': 'String'}],\n",
       " 'CreationTime': datetime.datetime(2025, 3, 22, 19, 8, 50, 61000, tzinfo=tzlocal()),\n",
       " 'OfflineStoreConfig': {'S3StorageConfig': {'S3Uri': 's3://cardiovale-solutions-datascience-pipeline/feature-store/cardio/cardio-feature-group-22-19-08-49',\n",
       "   'ResolvedOutputS3Uri': 's3://cardiovale-solutions-datascience-pipeline/feature-store/cardio/cardio-feature-group-22-19-08-49/786782285170/sagemaker/us-east-1/offline-store/cardio-feature-group-22-19-08-49-1742670530/data'},\n",
       "  'DisableGlueTableCreation': False,\n",
       "  'DataCatalogConfig': {'TableName': 'cardio_feature_group_22_19_08_49_1742670530',\n",
       "   'Catalog': 'AwsDataCatalog',\n",
       "   'Database': 'sagemaker_featurestore'}},\n",
       " 'ThroughputConfig': {'ThroughputMode': 'OnDemand'},\n",
       " 'RoleArn': 'arn:aws:iam::786782285170:role/LabRole',\n",
       " 'FeatureGroupStatus': 'Created',\n",
       " 'OfflineStoreStatus': {'Status': 'Active'},\n",
       " 'ResponseMetadata': {'RequestId': 'cb0c0997-7914-4bca-b9a1-97c584d501f3',\n",
       "  'HTTPStatusCode': 200,\n",
       "  'HTTPHeaders': {'x-amzn-requestid': 'cb0c0997-7914-4bca-b9a1-97c584d501f3',\n",
       "   'content-type': 'application/x-amz-json-1.1',\n",
       "   'content-length': '2396',\n",
       "   'date': 'Sat, 22 Mar 2025 19:18:18 GMT'},\n",
       "  'RetryAttempts': 0}}"
      ]
     },
     "execution_count": 14,
     "metadata": {},
     "output_type": "execute_result"
    }
   ],
   "source": [
    "feature_group.describe()"
   ]
  },
  {
   "cell_type": "code",
   "execution_count": 15,
   "metadata": {},
   "outputs": [],
   "source": [
    "import time\n",
    "\n",
    "def wait_for_feature_group_creation_complete(feature_group):\n",
    "    status = feature_group.describe().get(\"FeatureGroupStatus\")\n",
    "    while status == \"Creating\":\n",
    "        print(\"Waiting for Feature Group Creation\")\n",
    "        time.sleep(5)\n",
    "        status = feature_group.describe().get(\"FeatureGroupStatus\")\n",
    "    if status != \"Created\":\n",
    "        raise RuntimeError(f\"Failed to create feature group {feature_group.name}\")\n",
    "    print(f\"FeatureGroup {feature_group.name} successfully created.\")\n"
   ]
  },
  {
   "cell_type": "code",
   "execution_count": 16,
   "metadata": {},
   "outputs": [
    {
     "name": "stdout",
     "output_type": "stream",
     "text": [
      "FeatureGroup cardio-feature-group-22-19-08-49 successfully created.\n"
     ]
    }
   ],
   "source": [
    "wait_for_feature_group_creation_complete(feature_group=feature_group)"
   ]
  },
  {
   "cell_type": "code",
   "execution_count": 17,
   "metadata": {},
   "outputs": [
    {
     "data": {
      "text/html": [
       "<div>\n",
       "<style scoped>\n",
       "    .dataframe tbody tr th:only-of-type {\n",
       "        vertical-align: middle;\n",
       "    }\n",
       "\n",
       "    .dataframe tbody tr th {\n",
       "        vertical-align: top;\n",
       "    }\n",
       "\n",
       "    .dataframe thead th {\n",
       "        text-align: right;\n",
       "    }\n",
       "</style>\n",
       "<table border=\"1\" class=\"dataframe\">\n",
       "  <thead>\n",
       "    <tr style=\"text-align: right;\">\n",
       "      <th></th>\n",
       "      <th>id</th>\n",
       "      <th>age</th>\n",
       "      <th>gender</th>\n",
       "      <th>height</th>\n",
       "      <th>weight</th>\n",
       "      <th>ap_hi</th>\n",
       "      <th>ap_lo</th>\n",
       "      <th>cholesterol</th>\n",
       "      <th>gluc</th>\n",
       "      <th>smoke</th>\n",
       "      <th>alco</th>\n",
       "      <th>active</th>\n",
       "      <th>cardio</th>\n",
       "      <th>State</th>\n",
       "      <th>offered_for_free</th>\n",
       "      <th>medical_restrictions</th>\n",
       "      <th>number_of_weeks_offered</th>\n",
       "      <th>event_time</th>\n",
       "      <th>split_type</th>\n",
       "    </tr>\n",
       "  </thead>\n",
       "  <tbody>\n",
       "    <tr>\n",
       "      <th>0</th>\n",
       "      <td>0</td>\n",
       "      <td>18393</td>\n",
       "      <td>2</td>\n",
       "      <td>168</td>\n",
       "      <td>62.0</td>\n",
       "      <td>110</td>\n",
       "      <td>80</td>\n",
       "      <td>1</td>\n",
       "      <td>1</td>\n",
       "      <td>0</td>\n",
       "      <td>0</td>\n",
       "      <td>1</td>\n",
       "      <td>0</td>\n",
       "      <td>MO</td>\n",
       "      <td>0.0</td>\n",
       "      <td>0.0</td>\n",
       "      <td>0.0</td>\n",
       "      <td>2025-03-22T19:09:31Z</td>\n",
       "      <td>train</td>\n",
       "    </tr>\n",
       "    <tr>\n",
       "      <th>1</th>\n",
       "      <td>1</td>\n",
       "      <td>20228</td>\n",
       "      <td>1</td>\n",
       "      <td>156</td>\n",
       "      <td>85.0</td>\n",
       "      <td>140</td>\n",
       "      <td>90</td>\n",
       "      <td>3</td>\n",
       "      <td>1</td>\n",
       "      <td>0</td>\n",
       "      <td>0</td>\n",
       "      <td>1</td>\n",
       "      <td>1</td>\n",
       "      <td>GA</td>\n",
       "      <td>0.0</td>\n",
       "      <td>0.0</td>\n",
       "      <td>0.0</td>\n",
       "      <td>2025-03-22T19:09:31Z</td>\n",
       "      <td>train</td>\n",
       "    </tr>\n",
       "    <tr>\n",
       "      <th>2</th>\n",
       "      <td>2</td>\n",
       "      <td>18857</td>\n",
       "      <td>1</td>\n",
       "      <td>165</td>\n",
       "      <td>64.0</td>\n",
       "      <td>130</td>\n",
       "      <td>70</td>\n",
       "      <td>3</td>\n",
       "      <td>1</td>\n",
       "      <td>0</td>\n",
       "      <td>0</td>\n",
       "      <td>0</td>\n",
       "      <td>1</td>\n",
       "      <td>MO</td>\n",
       "      <td>0.0</td>\n",
       "      <td>0.0</td>\n",
       "      <td>0.0</td>\n",
       "      <td>2025-03-22T19:09:31Z</td>\n",
       "      <td>train</td>\n",
       "    </tr>\n",
       "    <tr>\n",
       "      <th>3</th>\n",
       "      <td>3</td>\n",
       "      <td>17623</td>\n",
       "      <td>2</td>\n",
       "      <td>169</td>\n",
       "      <td>82.0</td>\n",
       "      <td>150</td>\n",
       "      <td>100</td>\n",
       "      <td>1</td>\n",
       "      <td>1</td>\n",
       "      <td>0</td>\n",
       "      <td>0</td>\n",
       "      <td>1</td>\n",
       "      <td>1</td>\n",
       "      <td>GA</td>\n",
       "      <td>0.0</td>\n",
       "      <td>0.0</td>\n",
       "      <td>0.0</td>\n",
       "      <td>2025-03-22T19:09:31Z</td>\n",
       "      <td>train</td>\n",
       "    </tr>\n",
       "    <tr>\n",
       "      <th>4</th>\n",
       "      <td>4</td>\n",
       "      <td>17474</td>\n",
       "      <td>1</td>\n",
       "      <td>156</td>\n",
       "      <td>56.0</td>\n",
       "      <td>100</td>\n",
       "      <td>60</td>\n",
       "      <td>1</td>\n",
       "      <td>1</td>\n",
       "      <td>0</td>\n",
       "      <td>0</td>\n",
       "      <td>0</td>\n",
       "      <td>0</td>\n",
       "      <td>NJ</td>\n",
       "      <td>1.0</td>\n",
       "      <td>0.0</td>\n",
       "      <td>0.0</td>\n",
       "      <td>2025-03-22T19:09:31Z</td>\n",
       "      <td>train</td>\n",
       "    </tr>\n",
       "  </tbody>\n",
       "</table>\n",
       "</div>"
      ],
      "text/plain": [
       "   id    age  gender  height  weight  ap_hi  ap_lo  cholesterol  gluc  smoke  \\\n",
       "0   0  18393       2     168    62.0    110     80            1     1      0   \n",
       "1   1  20228       1     156    85.0    140     90            3     1      0   \n",
       "2   2  18857       1     165    64.0    130     70            3     1      0   \n",
       "3   3  17623       2     169    82.0    150    100            1     1      0   \n",
       "4   4  17474       1     156    56.0    100     60            1     1      0   \n",
       "\n",
       "   alco  active  cardio State  offered_for_free  medical_restrictions  \\\n",
       "0     0       1       0    MO               0.0                   0.0   \n",
       "1     0       1       1    GA               0.0                   0.0   \n",
       "2     0       0       1    MO               0.0                   0.0   \n",
       "3     0       1       1    GA               0.0                   0.0   \n",
       "4     0       0       0    NJ               1.0                   0.0   \n",
       "\n",
       "   number_of_weeks_offered            event_time split_type  \n",
       "0                      0.0  2025-03-22T19:09:31Z      train  \n",
       "1                      0.0  2025-03-22T19:09:31Z      train  \n",
       "2                      0.0  2025-03-22T19:09:31Z      train  \n",
       "3                      0.0  2025-03-22T19:09:31Z      train  \n",
       "4                      0.0  2025-03-22T19:09:31Z      train  "
      ]
     },
     "execution_count": 17,
     "metadata": {},
     "output_type": "execute_result"
    }
   ],
   "source": [
    "# Review sample of data to be ingested into Feature Store\n",
    "df_merged.head()\n"
   ]
  },
  {
   "cell_type": "code",
   "execution_count": 18,
   "metadata": {},
   "outputs": [
    {
     "name": "stdout",
     "output_type": "stream",
     "text": [
      "(70000, 19)\n",
      "id                            int64\n",
      "age                           int64\n",
      "gender                        int64\n",
      "height                        int64\n",
      "weight                      float64\n",
      "ap_hi                         int64\n",
      "ap_lo                         int64\n",
      "cholesterol                   int64\n",
      "gluc                          int64\n",
      "smoke                         int64\n",
      "alco                          int64\n",
      "active                        int64\n",
      "cardio                        int64\n",
      "State                      category\n",
      "offered_for_free            float64\n",
      "medical_restrictions        float64\n",
      "number_of_weeks_offered     float64\n",
      "event_time                   object\n",
      "split_type                   object\n",
      "dtype: object\n"
     ]
    }
   ],
   "source": [
    "print(df_merged.shape)\n",
    "print(df_merged.dtypes)\n"
   ]
  },
  {
   "cell_type": "markdown",
   "metadata": {},
   "source": [
    "# Cast DataFrame `Object` to Supported Feature Store Data Type `String`"
   ]
  },
  {
   "cell_type": "code",
   "execution_count": 23,
   "metadata": {},
   "outputs": [],
   "source": [
    "# Cast all 'object' columns to string for Feature Store compatibility\n",
    "for col in df_merged.select_dtypes(include='object').columns:\n",
    "    df_merged[col] = df_merged[col].astype(str)\n"
   ]
  },
  {
   "cell_type": "code",
   "execution_count": 24,
   "metadata": {},
   "outputs": [
    {
     "data": {
      "text/html": [
       "<div>\n",
       "<style scoped>\n",
       "    .dataframe tbody tr th:only-of-type {\n",
       "        vertical-align: middle;\n",
       "    }\n",
       "\n",
       "    .dataframe tbody tr th {\n",
       "        vertical-align: top;\n",
       "    }\n",
       "\n",
       "    .dataframe thead th {\n",
       "        text-align: right;\n",
       "    }\n",
       "</style>\n",
       "<table border=\"1\" class=\"dataframe\">\n",
       "  <thead>\n",
       "    <tr style=\"text-align: right;\">\n",
       "      <th></th>\n",
       "      <th>id</th>\n",
       "      <th>age</th>\n",
       "      <th>gender</th>\n",
       "      <th>height</th>\n",
       "      <th>weight</th>\n",
       "      <th>ap_hi</th>\n",
       "      <th>ap_lo</th>\n",
       "      <th>cholesterol</th>\n",
       "      <th>gluc</th>\n",
       "      <th>smoke</th>\n",
       "      <th>alco</th>\n",
       "      <th>active</th>\n",
       "      <th>cardio</th>\n",
       "      <th>State</th>\n",
       "      <th>offered_for_free</th>\n",
       "      <th>medical_restrictions</th>\n",
       "      <th>number_of_weeks_offered</th>\n",
       "      <th>event_time</th>\n",
       "      <th>split_type</th>\n",
       "    </tr>\n",
       "  </thead>\n",
       "  <tbody>\n",
       "    <tr>\n",
       "      <th>0</th>\n",
       "      <td>0</td>\n",
       "      <td>18393</td>\n",
       "      <td>2</td>\n",
       "      <td>168</td>\n",
       "      <td>62.0</td>\n",
       "      <td>110</td>\n",
       "      <td>80</td>\n",
       "      <td>1</td>\n",
       "      <td>1</td>\n",
       "      <td>0</td>\n",
       "      <td>0</td>\n",
       "      <td>1</td>\n",
       "      <td>0</td>\n",
       "      <td>MO</td>\n",
       "      <td>0.0</td>\n",
       "      <td>0.0</td>\n",
       "      <td>0.0</td>\n",
       "      <td>2025-03-22T19:09:31Z</td>\n",
       "      <td>train</td>\n",
       "    </tr>\n",
       "    <tr>\n",
       "      <th>1</th>\n",
       "      <td>1</td>\n",
       "      <td>20228</td>\n",
       "      <td>1</td>\n",
       "      <td>156</td>\n",
       "      <td>85.0</td>\n",
       "      <td>140</td>\n",
       "      <td>90</td>\n",
       "      <td>3</td>\n",
       "      <td>1</td>\n",
       "      <td>0</td>\n",
       "      <td>0</td>\n",
       "      <td>1</td>\n",
       "      <td>1</td>\n",
       "      <td>GA</td>\n",
       "      <td>0.0</td>\n",
       "      <td>0.0</td>\n",
       "      <td>0.0</td>\n",
       "      <td>2025-03-22T19:09:31Z</td>\n",
       "      <td>train</td>\n",
       "    </tr>\n",
       "    <tr>\n",
       "      <th>2</th>\n",
       "      <td>2</td>\n",
       "      <td>18857</td>\n",
       "      <td>1</td>\n",
       "      <td>165</td>\n",
       "      <td>64.0</td>\n",
       "      <td>130</td>\n",
       "      <td>70</td>\n",
       "      <td>3</td>\n",
       "      <td>1</td>\n",
       "      <td>0</td>\n",
       "      <td>0</td>\n",
       "      <td>0</td>\n",
       "      <td>1</td>\n",
       "      <td>MO</td>\n",
       "      <td>0.0</td>\n",
       "      <td>0.0</td>\n",
       "      <td>0.0</td>\n",
       "      <td>2025-03-22T19:09:31Z</td>\n",
       "      <td>train</td>\n",
       "    </tr>\n",
       "    <tr>\n",
       "      <th>3</th>\n",
       "      <td>3</td>\n",
       "      <td>17623</td>\n",
       "      <td>2</td>\n",
       "      <td>169</td>\n",
       "      <td>82.0</td>\n",
       "      <td>150</td>\n",
       "      <td>100</td>\n",
       "      <td>1</td>\n",
       "      <td>1</td>\n",
       "      <td>0</td>\n",
       "      <td>0</td>\n",
       "      <td>1</td>\n",
       "      <td>1</td>\n",
       "      <td>GA</td>\n",
       "      <td>0.0</td>\n",
       "      <td>0.0</td>\n",
       "      <td>0.0</td>\n",
       "      <td>2025-03-22T19:09:31Z</td>\n",
       "      <td>train</td>\n",
       "    </tr>\n",
       "    <tr>\n",
       "      <th>4</th>\n",
       "      <td>4</td>\n",
       "      <td>17474</td>\n",
       "      <td>1</td>\n",
       "      <td>156</td>\n",
       "      <td>56.0</td>\n",
       "      <td>100</td>\n",
       "      <td>60</td>\n",
       "      <td>1</td>\n",
       "      <td>1</td>\n",
       "      <td>0</td>\n",
       "      <td>0</td>\n",
       "      <td>0</td>\n",
       "      <td>0</td>\n",
       "      <td>NJ</td>\n",
       "      <td>1.0</td>\n",
       "      <td>0.0</td>\n",
       "      <td>0.0</td>\n",
       "      <td>2025-03-22T19:09:31Z</td>\n",
       "      <td>train</td>\n",
       "    </tr>\n",
       "    <tr>\n",
       "      <th>...</th>\n",
       "      <td>...</td>\n",
       "      <td>...</td>\n",
       "      <td>...</td>\n",
       "      <td>...</td>\n",
       "      <td>...</td>\n",
       "      <td>...</td>\n",
       "      <td>...</td>\n",
       "      <td>...</td>\n",
       "      <td>...</td>\n",
       "      <td>...</td>\n",
       "      <td>...</td>\n",
       "      <td>...</td>\n",
       "      <td>...</td>\n",
       "      <td>...</td>\n",
       "      <td>...</td>\n",
       "      <td>...</td>\n",
       "      <td>...</td>\n",
       "      <td>...</td>\n",
       "      <td>...</td>\n",
       "    </tr>\n",
       "    <tr>\n",
       "      <th>69995</th>\n",
       "      <td>99993</td>\n",
       "      <td>19240</td>\n",
       "      <td>2</td>\n",
       "      <td>168</td>\n",
       "      <td>76.0</td>\n",
       "      <td>120</td>\n",
       "      <td>80</td>\n",
       "      <td>1</td>\n",
       "      <td>1</td>\n",
       "      <td>1</td>\n",
       "      <td>0</td>\n",
       "      <td>1</td>\n",
       "      <td>0</td>\n",
       "      <td>MT</td>\n",
       "      <td>1.0</td>\n",
       "      <td>0.0</td>\n",
       "      <td>0.0</td>\n",
       "      <td>2025-03-22T19:09:31Z</td>\n",
       "      <td>train</td>\n",
       "    </tr>\n",
       "    <tr>\n",
       "      <th>69996</th>\n",
       "      <td>99995</td>\n",
       "      <td>22601</td>\n",
       "      <td>1</td>\n",
       "      <td>158</td>\n",
       "      <td>126.0</td>\n",
       "      <td>140</td>\n",
       "      <td>90</td>\n",
       "      <td>2</td>\n",
       "      <td>2</td>\n",
       "      <td>0</td>\n",
       "      <td>0</td>\n",
       "      <td>1</td>\n",
       "      <td>1</td>\n",
       "      <td>MO</td>\n",
       "      <td>0.0</td>\n",
       "      <td>0.0</td>\n",
       "      <td>0.0</td>\n",
       "      <td>2025-03-22T19:09:31Z</td>\n",
       "      <td>train</td>\n",
       "    </tr>\n",
       "    <tr>\n",
       "      <th>69997</th>\n",
       "      <td>99996</td>\n",
       "      <td>19066</td>\n",
       "      <td>2</td>\n",
       "      <td>183</td>\n",
       "      <td>105.0</td>\n",
       "      <td>180</td>\n",
       "      <td>90</td>\n",
       "      <td>3</td>\n",
       "      <td>1</td>\n",
       "      <td>0</td>\n",
       "      <td>1</td>\n",
       "      <td>0</td>\n",
       "      <td>1</td>\n",
       "      <td>OK</td>\n",
       "      <td>1.0</td>\n",
       "      <td>1.0</td>\n",
       "      <td>2.0</td>\n",
       "      <td>2025-03-22T19:09:31Z</td>\n",
       "      <td>train</td>\n",
       "    </tr>\n",
       "    <tr>\n",
       "      <th>69998</th>\n",
       "      <td>99998</td>\n",
       "      <td>22431</td>\n",
       "      <td>1</td>\n",
       "      <td>163</td>\n",
       "      <td>72.0</td>\n",
       "      <td>135</td>\n",
       "      <td>80</td>\n",
       "      <td>1</td>\n",
       "      <td>2</td>\n",
       "      <td>0</td>\n",
       "      <td>0</td>\n",
       "      <td>0</td>\n",
       "      <td>1</td>\n",
       "      <td>OK</td>\n",
       "      <td>1.0</td>\n",
       "      <td>1.0</td>\n",
       "      <td>2.0</td>\n",
       "      <td>2025-03-22T19:09:31Z</td>\n",
       "      <td>train</td>\n",
       "    </tr>\n",
       "    <tr>\n",
       "      <th>69999</th>\n",
       "      <td>99999</td>\n",
       "      <td>20540</td>\n",
       "      <td>1</td>\n",
       "      <td>170</td>\n",
       "      <td>72.0</td>\n",
       "      <td>120</td>\n",
       "      <td>80</td>\n",
       "      <td>2</td>\n",
       "      <td>1</td>\n",
       "      <td>0</td>\n",
       "      <td>0</td>\n",
       "      <td>1</td>\n",
       "      <td>0</td>\n",
       "      <td>MO</td>\n",
       "      <td>0.0</td>\n",
       "      <td>0.0</td>\n",
       "      <td>0.0</td>\n",
       "      <td>2025-03-22T19:09:31Z</td>\n",
       "      <td>train</td>\n",
       "    </tr>\n",
       "  </tbody>\n",
       "</table>\n",
       "<p>70000 rows × 19 columns</p>\n",
       "</div>"
      ],
      "text/plain": [
       "          id    age  gender  height  weight  ap_hi  ap_lo  cholesterol  gluc  \\\n",
       "0          0  18393       2     168    62.0    110     80            1     1   \n",
       "1          1  20228       1     156    85.0    140     90            3     1   \n",
       "2          2  18857       1     165    64.0    130     70            3     1   \n",
       "3          3  17623       2     169    82.0    150    100            1     1   \n",
       "4          4  17474       1     156    56.0    100     60            1     1   \n",
       "...      ...    ...     ...     ...     ...    ...    ...          ...   ...   \n",
       "69995  99993  19240       2     168    76.0    120     80            1     1   \n",
       "69996  99995  22601       1     158   126.0    140     90            2     2   \n",
       "69997  99996  19066       2     183   105.0    180     90            3     1   \n",
       "69998  99998  22431       1     163    72.0    135     80            1     2   \n",
       "69999  99999  20540       1     170    72.0    120     80            2     1   \n",
       "\n",
       "       smoke  alco  active  cardio State  offered_for_free  \\\n",
       "0          0     0       1       0    MO               0.0   \n",
       "1          0     0       1       1    GA               0.0   \n",
       "2          0     0       0       1    MO               0.0   \n",
       "3          0     0       1       1    GA               0.0   \n",
       "4          0     0       0       0    NJ               1.0   \n",
       "...      ...   ...     ...     ...   ...               ...   \n",
       "69995      1     0       1       0    MT               1.0   \n",
       "69996      0     0       1       1    MO               0.0   \n",
       "69997      0     1       0       1    OK               1.0   \n",
       "69998      0     0       0       1    OK               1.0   \n",
       "69999      0     0       1       0    MO               0.0   \n",
       "\n",
       "       medical_restrictions  number_of_weeks_offered            event_time  \\\n",
       "0                       0.0                      0.0  2025-03-22T19:09:31Z   \n",
       "1                       0.0                      0.0  2025-03-22T19:09:31Z   \n",
       "2                       0.0                      0.0  2025-03-22T19:09:31Z   \n",
       "3                       0.0                      0.0  2025-03-22T19:09:31Z   \n",
       "4                       0.0                      0.0  2025-03-22T19:09:31Z   \n",
       "...                     ...                      ...                   ...   \n",
       "69995                   0.0                      0.0  2025-03-22T19:09:31Z   \n",
       "69996                   0.0                      0.0  2025-03-22T19:09:31Z   \n",
       "69997                   1.0                      2.0  2025-03-22T19:09:31Z   \n",
       "69998                   1.0                      2.0  2025-03-22T19:09:31Z   \n",
       "69999                   0.0                      0.0  2025-03-22T19:09:31Z   \n",
       "\n",
       "      split_type  \n",
       "0          train  \n",
       "1          train  \n",
       "2          train  \n",
       "3          train  \n",
       "4          train  \n",
       "...          ...  \n",
       "69995      train  \n",
       "69996      train  \n",
       "69997      train  \n",
       "69998      train  \n",
       "69999      train  \n",
       "\n",
       "[70000 rows x 19 columns]"
      ]
     },
     "execution_count": 24,
     "metadata": {},
     "output_type": "execute_result"
    }
   ],
   "source": [
    "df_merged"
   ]
  },
  {
   "cell_type": "code",
   "execution_count": null,
   "metadata": {},
   "outputs": [],
   "source": [
    "feature_group.ingest(data_frame=df_merged, max_workers=3, wait=True)"
   ]
  },
  {
   "cell_type": "markdown",
   "metadata": {},
   "source": [
    "## Wait For Data In Offline Feature Store To Become Available\n",
    "\n",
    "Creating a feature group takes time as the data is loaded. We will need to wait until it is created before we can use it. "
   ]
  },
  {
   "cell_type": "code",
   "execution_count": null,
   "metadata": {},
   "outputs": [],
   "source": [
    "offline_store_contents = None\n",
    "\n",
    "while offline_store_contents is None:\n",
    "    objects_in_bucket = s3.list_objects(Bucket=bucket, Prefix=prefix)\n",
    "    if \"Contents\" in objects_in_bucket and len(objects_in_bucket[\"Contents\"]) > 1:\n",
    "        offline_store_contents = objects_in_bucket[\"Contents\"]\n",
    "    else:\n",
    "        print(\"Waiting for data in offline store...\\n\")\n",
    "        sleep(60)\n",
    "\n",
    "print(\"Data available.\")"
   ]
  },
  {
   "cell_type": "markdown",
   "metadata": {},
   "source": [
    "## _Wait For The Cell Above To Complete and show `Data available`._"
   ]
  },
  {
   "cell_type": "markdown",
   "metadata": {},
   "source": [
    "## Get Record From Online Feature Store\n",
    "\n",
    "Use for OnlineStore serving from a FeatureStore. Only the latest records stored in the OnlineStore can be retrieved. If no Record with `RecordIdentifierValue` is found, then an empty result is returned."
   ]
  },
  {
   "cell_type": "code",
   "execution_count": null,
   "metadata": {
    "scrolled": true
   },
   "outputs": [],
   "source": [
    "# record_identifier_value = \"IJKL2345\"\n",
    "\n",
    "# featurestore_runtime.get_record(\n",
    "#     FeatureGroupName=feature_group_name, RecordIdentifierValueAsString=record_identifier_value\n",
    "# )"
   ]
  },
  {
   "cell_type": "markdown",
   "metadata": {},
   "source": [
    "# Build Training Dataset\n",
    "\n",
    "SageMaker FeatureStore automatically builds the Glue Data Catalog for FeatureGroups (we can optionally turn it on/off while creating the FeatureGroup). We can create a training dataset by querying the data in the feature store. This is done by utilizing the auto-built Catalog and run an Athena query. "
   ]
  },
  {
   "cell_type": "markdown",
   "metadata": {},
   "source": [
    "# Create An Athena Query"
   ]
  },
  {
   "cell_type": "code",
   "execution_count": null,
   "metadata": {},
   "outputs": [],
   "source": [
    "feature_store_query = feature_group.athena_query()"
   ]
  },
  {
   "cell_type": "markdown",
   "metadata": {},
   "source": [
    "# Get The Feature Group Table Name"
   ]
  },
  {
   "cell_type": "code",
   "execution_count": null,
   "metadata": {},
   "outputs": [],
   "source": [
    "feature_store_table = feature_store_query.table_name"
   ]
  },
  {
   "cell_type": "markdown",
   "metadata": {},
   "source": [
    "# Build an Athena SQL Query\n",
    "\n",
    "Show Hive DDL commands to define or change structure of tables or databases in Hive. The schema of the table is generated based on the feature definitions. Columns are named after feature name and data-type are inferred based on feature type. \n",
    "\n",
    "Integral feature type is mapped to INT data-type. Fractional feature type is mapped to FLOAT data-type. String feature type is mapped to STRING data-type."
   ]
  },
  {
   "cell_type": "code",
   "execution_count": null,
   "metadata": {
    "scrolled": true
   },
   "outputs": [],
   "source": [
    "print(feature_group.as_hive_ddl())"
   ]
  },
  {
   "cell_type": "code",
   "execution_count": null,
   "metadata": {},
   "outputs": [],
   "source": [
    "query_string = \"\"\"\n",
    "SELECT input_ids, input_mask, segment_ids, label_id, split_type  FROM \"{}\" WHERE split_type='train' LIMIT 5\n",
    "\"\"\".format(\n",
    "    feature_store_table\n",
    ")\n",
    "\n",
    "print(\"Running \" + query_string)"
   ]
  },
  {
   "cell_type": "markdown",
   "metadata": {},
   "source": [
    "## Run Athena Query\n",
    "The query results are stored in a S3 bucket."
   ]
  },
  {
   "cell_type": "code",
   "execution_count": null,
   "metadata": {},
   "outputs": [],
   "source": [
    "feature_store_query.run(query_string=query_string, output_location=\"s3://\" + bucket + \"/\" + prefix + \"/query_results/\")\n",
    "\n",
    "feature_store_query.wait()"
   ]
  },
  {
   "cell_type": "markdown",
   "metadata": {},
   "source": [
    "## View Query Results\n",
    "\n",
    "Load query results in a Pandas DataFrame."
   ]
  },
  {
   "cell_type": "code",
   "execution_count": null,
   "metadata": {},
   "outputs": [],
   "source": [
    "dataset = pd.DataFrame()\n",
    "\n",
    "dataset = feature_store_query.as_dataframe()\n",
    "\n",
    "dataset"
   ]
  },
  {
   "cell_type": "markdown",
   "metadata": {},
   "source": [
    "# Review the Feature Store\n",
    "\n",
    "![Feature Store](img/feature_store_sm_extension.png)"
   ]
  },
  {
   "cell_type": "markdown",
   "metadata": {},
   "source": [
    "# Release Resources"
   ]
  },
  {
   "cell_type": "code",
   "execution_count": null,
   "metadata": {},
   "outputs": [],
   "source": [
    "%%html\n",
    "\n",
    "<p><b>Shutting down your kernel for this notebook to release resources.</b></p>\n",
    "<button class=\"sm-command-button\" data-commandlinker-command=\"kernelmenu:shutdown\" style=\"display:none;\">Shutdown Kernel</button>\n",
    "        \n",
    "<script>\n",
    "try {\n",
    "    els = document.getElementsByClassName(\"sm-command-button\");\n",
    "    els[0].click();\n",
    "}\n",
    "catch(err) {\n",
    "    // NoOp\n",
    "}    \n",
    "</script>"
   ]
  },
  {
   "cell_type": "code",
   "execution_count": null,
   "metadata": {},
   "outputs": [],
   "source": [
    "%%javascript\n",
    "\n",
    "try {\n",
    "    Jupyter.notebook.save_checkpoint();\n",
    "    Jupyter.notebook.session.delete();\n",
    "}\n",
    "catch(err) {\n",
    "    // NoOp\n",
    "}"
   ]
  }
 ],
 "metadata": {
  "instance_type": "ml.t3.medium",
  "kernelspec": {
   "display_name": "Python 3 (ipykernel)",
   "language": "python",
   "name": "python3"
  },
  "language_info": {
   "codemirror_mode": {
    "name": "ipython",
    "version": 3
   },
   "file_extension": ".py",
   "mimetype": "text/x-python",
   "name": "python",
   "nbconvert_exporter": "python",
   "pygments_lexer": "ipython3",
   "version": "3.11.11"
  }
 },
 "nbformat": 4,
 "nbformat_minor": 4
}
