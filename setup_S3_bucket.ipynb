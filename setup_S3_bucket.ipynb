{
 "cells": [
  {
   "cell_type": "code",
   "execution_count": 1,
   "id": "31f0c8a2-ef59-420e-995e-9e88bded71fa",
   "metadata": {},
   "outputs": [
    {
     "name": "stdout",
     "output_type": "stream",
     "text": [
      "sagemaker.config INFO - Not applying SDK defaults from location: /etc/xdg/sagemaker/config.yaml\n",
      "sagemaker.config INFO - Not applying SDK defaults from location: /home/sagemaker-user/.config/sagemaker/config.yaml\n"
     ]
    }
   ],
   "source": [
    "import boto3\n",
    "import sagemaker\n",
    "\n",
    "# Initialize the SageMaker session and get the execution role.\n",
    "sagemaker_session = sagemaker.Session()\n",
    "role = sagemaker.get_execution_role()\n",
    "\n",
    "# Define your custom S3 bucket for the CardioValve project.\n",
    "# Replace the bucket name below with your chosen unique name if needed.\n",
    "bucket = \"cardiovale-solutions-datascience-pipeline\"\n",
    "region = boto3.Session().region_name\n",
    "\n",
    "# Create an S3 client for operations.\n",
    "sm = boto3.Session().client(service_name=\"sagemaker\", region_name=region)\n"
   ]
  },
  {
   "cell_type": "code",
   "execution_count": 2,
   "id": "18499c2c-4edb-4f54-83b6-b496e15f4e96",
   "metadata": {},
   "outputs": [
    {
     "name": "stdout",
     "output_type": "stream",
     "text": [
      "make_bucket: cardiovale-solutions-datascience-pipeline\n"
     ]
    }
   ],
   "source": [
    "# Create the S3 bucket if it doesn't already exist.\n",
    "!aws s3 mb s3://$bucket"
   ]
  },
  {
   "cell_type": "code",
   "execution_count": 3,
   "id": "cf342e04-6686-4aa2-9d92-543be09afa18",
   "metadata": {},
   "outputs": [
    {
     "name": "stdout",
     "output_type": "stream",
     "text": [
      "upload: data/.ipynb_checkpoints/cardio_train-checkpoint.csv to s3://cardiovale-solutions-datascience-pipeline/raw-data/.ipynb_checkpoints/cardio_train-checkpoint.csv\n",
      "upload: data/cardio_train.csv to s3://cardiovale-solutions-datascience-pipeline/raw-data/cardio_train.csv\n",
      "upload: data/Quitline___Services_Available___Medications_-_2010_To_Present_20250306.csv to s3://cardiovale-solutions-datascience-pipeline/raw-data/Quitline___Services_Available___Medications_-_2010_To_Present_20250306.csv\n"
     ]
    }
   ],
   "source": [
    "# Upload your raw data files from the local './data/' folder to the S3 bucket under the 'raw-data' path.\n",
    "!aws s3 cp --recursive ./data/ s3://$bucket/raw-data/"
   ]
  },
  {
   "cell_type": "code",
   "execution_count": 4,
   "id": "fe24b39c-d367-42f9-a940-0316518ae5db",
   "metadata": {},
   "outputs": [
    {
     "name": "stdout",
     "output_type": "stream",
     "text": [
      "                           PRE .ipynb_checkpoints/\n",
      "2025-03-07 06:39:44    6934258 Quitline___Services_Available___Medications_-_2010_To_Present_20250306.csv\n",
      "2025-03-07 06:39:44    2941524 cardio_train.csv\n"
     ]
    }
   ],
   "source": [
    "# List the contents of the newly uploaded folder to verify the files are there.\n",
    "!aws s3 ls s3://$bucket/raw-data/"
   ]
  },
  {
   "cell_type": "markdown",
   "id": "0390ad64-fd3e-47dc-8327-2a02dfd5187f",
   "metadata": {},
   "source": [
    "# Release Resources"
   ]
  },
  {
   "cell_type": "code",
   "execution_count": 5,
   "id": "c0d9f570-8385-47e2-9729-fdfb65386857",
   "metadata": {},
   "outputs": [
    {
     "data": {
      "text/html": [
       "\n",
       "<p><b>Shutting down your kernel for this notebook to release resources.</b></p>\n",
       "<button class=\"sm-command-button\" data-commandlinker-command=\"kernelmenu:shutdown\" style=\"display:none;\">Shutdown Kernel</button>\n",
       "        \n",
       "<script>\n",
       "try {\n",
       "    els = document.getElementsByClassName(\"sm-command-button\");\n",
       "    els[0].click();\n",
       "}\n",
       "catch(err) {\n",
       "    // NoOp\n",
       "}    \n",
       "</script>\n"
      ],
      "text/plain": [
       "<IPython.core.display.HTML object>"
      ]
     },
     "metadata": {},
     "output_type": "display_data"
    }
   ],
   "source": [
    "%%html\n",
    "\n",
    "<p><b>Shutting down your kernel for this notebook to release resources.</b></p>\n",
    "<button class=\"sm-command-button\" data-commandlinker-command=\"kernelmenu:shutdown\" style=\"display:none;\">Shutdown Kernel</button>\n",
    "        \n",
    "<script>\n",
    "try {\n",
    "    els = document.getElementsByClassName(\"sm-command-button\");\n",
    "    els[0].click();\n",
    "}\n",
    "catch(err) {\n",
    "    // NoOp\n",
    "}    \n",
    "</script>"
   ]
  },
  {
   "cell_type": "code",
   "execution_count": 1,
   "id": "d2686ddb-bdca-426e-91aa-6ae23e3be7a9",
   "metadata": {},
   "outputs": [
    {
     "data": {
      "application/javascript": [
       "\n",
       "try {\n",
       "    Jupyter.notebook.save_checkpoint();\n",
       "    Jupyter.notebook.session.delete();\n",
       "}\n",
       "catch(err) {\n",
       "    // NoOp\n",
       "}\n"
      ],
      "text/plain": [
       "<IPython.core.display.Javascript object>"
      ]
     },
     "metadata": {},
     "output_type": "display_data"
    }
   ],
   "source": [
    "%%javascript\n",
    "\n",
    "try {\n",
    "    Jupyter.notebook.save_checkpoint();\n",
    "    Jupyter.notebook.session.delete();\n",
    "}\n",
    "catch(err) {\n",
    "    // NoOp\n",
    "}"
   ]
  },
  {
   "cell_type": "code",
   "execution_count": null,
   "id": "545d074c-6da6-4289-9226-6754b0908869",
   "metadata": {},
   "outputs": [],
   "source": []
  }
 ],
 "metadata": {
  "kernelspec": {
   "display_name": "Python 3 (ipykernel)",
   "language": "python",
   "name": "python3"
  },
  "language_info": {
   "codemirror_mode": {
    "name": "ipython",
    "version": 3
   },
   "file_extension": ".py",
   "mimetype": "text/x-python",
   "name": "python",
   "nbconvert_exporter": "python",
   "pygments_lexer": "ipython3",
   "version": "3.11.11"
  }
 },
 "nbformat": 4,
 "nbformat_minor": 5
}
